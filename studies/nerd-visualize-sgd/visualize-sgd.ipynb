{
 "cells": [
  {
   "cell_type": "markdown",
   "metadata": {},
   "source": [
    "# Visualize Stochastic Gradient Descent"
   ]
  },
  {
   "cell_type": "code",
   "execution_count": null,
   "metadata": {},
   "outputs": [],
   "source": [
    "%matplotlib inline\n",
    "%reload_ext autoreload\n",
    "%autoreload 2"
   ]
  },
  {
   "cell_type": "code",
   "execution_count": null,
   "metadata": {},
   "outputs": [],
   "source": [
    "from fastai import *"
   ]
  },
  {
   "cell_type": "code",
   "execution_count": null,
   "metadata": {},
   "outputs": [],
   "source": [
    "#plt.style.use([\"dark_background\"])"
   ]
  },
  {
   "cell_type": "markdown",
   "metadata": {},
   "source": [
    "In this part of the lecture we explain Stochastic Gradient Descent (SGD) which is an **optimization** method commonly used in neural networks. We will illustrate the concepts with concrete examples."
   ]
  },
  {
   "cell_type": "markdown",
   "metadata": {},
   "source": [
    "## Linear Regression problem"
   ]
  },
  {
   "cell_type": "markdown",
   "metadata": {},
   "source": [
    "The goal of linear regression is to fit a line to a set of points."
   ]
  },
  {
   "cell_type": "code",
   "execution_count": null,
   "metadata": {},
   "outputs": [],
   "source": [
    "n=100"
   ]
  },
  {
   "cell_type": "code",
   "execution_count": null,
   "metadata": {},
   "outputs": [],
   "source": [
    "x = torch.ones(n,2) \n",
    "x[:,0].uniform_(-1.,1)\n",
    "x[:5]"
   ]
  },
  {
   "cell_type": "code",
   "execution_count": null,
   "metadata": {},
   "outputs": [],
   "source": [
    "a = tensor(3.,2); a"
   ]
  },
  {
   "cell_type": "code",
   "execution_count": null,
   "metadata": {},
   "outputs": [],
   "source": [
    "y = x@a + torch.rand(n)"
   ]
  },
  {
   "cell_type": "code",
   "execution_count": null,
   "metadata": {},
   "outputs": [],
   "source": [
    "plt.scatter(x[:,0], y);"
   ]
  },
  {
   "cell_type": "markdown",
   "metadata": {},
   "source": [
    "You want to find **parameters** (weights) `a` such that you minimize the *error* between the points and the line `x@a`. Note that here `a` is unknown. For a regression problem the most common *error function* or *loss function* is the **mean squared error**. "
   ]
  },
  {
   "cell_type": "code",
   "execution_count": null,
   "metadata": {},
   "outputs": [],
   "source": [
    "def mse(y_hat, y): return ((y_hat-y)**2).mean()"
   ]
  },
  {
   "cell_type": "markdown",
   "metadata": {},
   "source": [
    "Suppose we believe `a = (1.0,1.0)` then we can compute `y_hat` which is our *prediction* and then compute our error."
   ]
  },
  {
   "cell_type": "code",
   "execution_count": null,
   "metadata": {},
   "outputs": [],
   "source": [
    "a = tensor(-1.,1)"
   ]
  },
  {
   "cell_type": "code",
   "execution_count": null,
   "metadata": {},
   "outputs": [],
   "source": [
    "y_hat = x@a\n",
    "mse(y_hat, y)"
   ]
  },
  {
   "cell_type": "code",
   "execution_count": null,
   "metadata": {},
   "outputs": [],
   "source": [
    "plt.scatter(x[:,0],y)\n",
    "plt.scatter(x[:,0],y_hat);"
   ]
  },
  {
   "cell_type": "markdown",
   "metadata": {},
   "source": [
    "So far we have specified the *model* (linear regression) and the *evaluation criteria* (or *loss function*). Now we need to handle *optimization*; that is, how do we find the best values for `a`? How do we find the best *fitting* linear regression."
   ]
  },
  {
   "cell_type": "markdown",
   "metadata": {},
   "source": [
    "### Gradient Descent"
   ]
  },
  {
   "cell_type": "markdown",
   "metadata": {},
   "source": [
    "We would like to find the values of `a` that minimize `mse_loss`.\n",
    "\n",
    "**Gradient descent** is an algorithm that minimizes functions. Given a function defined by a set of parameters, gradient descent starts with an initial set of parameter values and iteratively moves toward a set of parameter values that minimize the function. This iterative minimization is achieved by taking steps in the negative direction of the function gradient.\n",
    "\n",
    "Here is gradient descent implemented in [PyTorch](http://pytorch.org/)."
   ]
  },
  {
   "cell_type": "code",
   "execution_count": null,
   "metadata": {},
   "outputs": [],
   "source": [
    "a = nn.Parameter(a); a"
   ]
  },
  {
   "cell_type": "code",
   "execution_count": null,
   "metadata": {},
   "outputs": [],
   "source": [
    "def update():\n",
    "    y_hat = x@a\n",
    "    loss = mse(y, y_hat)\n",
    "    if t % 10 == 0: print(loss)\n",
    "    loss.backward()\n",
    "    with torch.no_grad():\n",
    "        a.sub_(lr * a.grad)\n",
    "        a.grad.zero_()"
   ]
  },
  {
   "cell_type": "code",
   "execution_count": null,
   "metadata": {},
   "outputs": [],
   "source": [
    "lr = 1e-1\n",
    "for t in range(100): update()"
   ]
  },
  {
   "cell_type": "code",
   "execution_count": null,
   "metadata": {},
   "outputs": [],
   "source": [
    "plt.scatter(x[:,0],y)\n",
    "plt.scatter(x[:,0],x@a);"
   ]
  },
  {
   "cell_type": "markdown",
   "metadata": {},
   "source": [
    "### Animate it!"
   ]
  },
  {
   "cell_type": "code",
   "execution_count": null,
   "metadata": {},
   "outputs": [],
   "source": [
    "from matplotlib import animation, rc\n",
    "rc('animation', html='html5')"
   ]
  },
  {
   "cell_type": "markdown",
   "metadata": {},
   "source": [
    "You'll need to uncomment the following to install the necessary plugin the first time you run this:"
   ]
  },
  {
   "cell_type": "code",
   "execution_count": null,
   "metadata": {},
   "outputs": [],
   "source": [
    "#! sudo add-apt-repository ppa:mc3man/trusty-media  \n",
    "#! sudo apt-get update  \n",
    "#! sudo apt-get install ffmpeg  \n",
    "#! sudo apt-get install frei0r-plugins "
   ]
  },
  {
   "cell_type": "code",
   "execution_count": null,
   "metadata": {},
   "outputs": [],
   "source": [
    "a = nn.Parameter(tensor(-1.,1))\n",
    "\n",
    "fig = plt.figure()\n",
    "plt.scatter(x[:,0], y, c='orange')\n",
    "line, = plt.plot(x[:,0], x@a)\n",
    "plt.close()\n",
    "\n",
    "def animate(i):\n",
    "    update()\n",
    "    line.set_ydata(x@a)\n",
    "    return line,\n",
    "\n",
    "animation.FuncAnimation(fig, animate, np.arange(0, 100), interval=20)"
   ]
  },
  {
   "cell_type": "markdown",
   "metadata": {},
   "source": [
    "In practice, we don't calculate on the whole file at once, but we use *mini-batches*."
   ]
  },
  {
   "cell_type": "markdown",
   "metadata": {},
   "source": [
    "## Extension: Visualizing in 3D plot"
   ]
  },
  {
   "cell_type": "markdown",
   "metadata": {},
   "source": [
    ">[Speeding up your code (2): vectorizing the loops with Numpy](https://hackernoon.com/speeding-up-your-code-2-vectorizing-the-loops-with-numpy-e380e939bed3)"
   ]
  },
  {
   "cell_type": "code",
   "execution_count": null,
   "metadata": {},
   "outputs": [],
   "source": [
    "from mpl_toolkits.mplot3d import Axes3D"
   ]
  },
  {
   "cell_type": "code",
   "execution_count": null,
   "metadata": {},
   "outputs": [],
   "source": [
    "def loss_fn(w0, w1):\n",
    "    w = torch.Tensor([w0, w1])\n",
    "    yp = x@w\n",
    "    return mse(yp, y)\n",
    "\n",
    "loss_vec = np.vectorize(loss_fn)"
   ]
  },
  {
   "cell_type": "markdown",
   "metadata": {},
   "source": [
    "### Loss Domain"
   ]
  },
  {
   "cell_type": "code",
   "execution_count": null,
   "metadata": {},
   "outputs": [],
   "source": [
    "w0s = np.linspace(-20, 20, 50)\n",
    "w1s = np.linspace(-20, 20, 50)\n",
    "mesh = np.meshgrid(w0s, w1s)\n",
    "loss = loss_vec(*mesh)"
   ]
  },
  {
   "cell_type": "code",
   "execution_count": null,
   "metadata": {},
   "outputs": [],
   "source": [
    "fig = plt.figure(figsize=(12,12))\n",
    "ax = plt.axes(projection='3d')\n",
    "ax.plot_surface(*mesh, loss, cmap='viridis', alpha=0.8)\n",
    "ax.set_xlabel('w0'); ax.set_ylabel('w1'); ax.set_zlabel('Loss')\n",
    "ax.view_init(30, 20)"
   ]
  },
  {
   "cell_type": "markdown",
   "metadata": {},
   "source": [
    "### Gradient Descent"
   ]
  },
  {
   "cell_type": "code",
   "execution_count": null,
   "metadata": {},
   "outputs": [],
   "source": [
    "lr = 1.001\n",
    "eps = 100\n",
    "w = torch.tensor([-18., -18.], requires_grad=True)"
   ]
  },
  {
   "cell_type": "code",
   "execution_count": null,
   "metadata": {},
   "outputs": [],
   "source": [
    "def mse(y_hat, y): return ((y_hat-y)**2).mean()\n",
    "def update(w):\n",
    "    y_hat = x@w\n",
    "    loss = mse(y, y_hat)\n",
    "    prev_w = w.data.clone()  \n",
    "    loss.backward()\n",
    "    with torch.no_grad():\n",
    "        w -= lr * w.grad\n",
    "        w.grad.zero_()\n",
    "    return prev_w, loss.item()"
   ]
  },
  {
   "cell_type": "code",
   "execution_count": null,
   "metadata": {},
   "outputs": [],
   "source": [
    "recorder = []\n",
    "for t in range(eps): recorder.append(update(w))\n",
    "rec_w, rec_loss = [list(o) for o in zip(*recorder)]\n",
    "rec_w = torch.stack(rec_w)"
   ]
  },
  {
   "cell_type": "code",
   "execution_count": null,
   "metadata": {},
   "outputs": [],
   "source": [
    "rec_w[:5], rec_loss[:5]"
   ]
  },
  {
   "cell_type": "markdown",
   "metadata": {},
   "source": [
    "### Animate it!"
   ]
  },
  {
   "cell_type": "code",
   "execution_count": null,
   "metadata": {},
   "outputs": [],
   "source": [
    "from matplotlib import animation\n",
    "from matplotlib.gridspec import GridSpec\n",
    "plt.rc('animation', html='html5')"
   ]
  },
  {
   "cell_type": "code",
   "execution_count": null,
   "metadata": {},
   "outputs": [],
   "source": [
    "Writer = animation.writers['ffmpeg']\n",
    "writer = Writer(fps=15, metadata=dict(artist='Me'), bitrate=1800)"
   ]
  },
  {
   "cell_type": "code",
   "execution_count": null,
   "metadata": {},
   "outputs": [],
   "source": [
    "#fig = plt.figure()\n",
    "#gs = GridSpec(3, 3)\n",
    "#ax0 = plt.subplot(gs[0, :])\n",
    "#ax1 = plt.subplot(gs[1, :-1])\n",
    "#ax2 = plt.subplot(gs[1:, -1])\n",
    "#ax3 = plt.subplot(gs[-1, 0])\n",
    "#ax4 = plt.subplot(gs[-1, -2])\n",
    "##fig.tight_layout()"
   ]
  },
  {
   "cell_type": "code",
   "execution_count": null,
   "metadata": {},
   "outputs": [],
   "source": [
    "fig = plt.figure(figsize=(14, 8))\n",
    "ttl = fig.suptitle(f'LR: {lr} - Epoch: 0/{eps}', fontsize=22)\n",
    "gs  = GridSpec(2, 2, width_ratios=[1, 2.5])\n",
    "ax0 = plt.subplot(gs[0,0])\n",
    "ax1 = plt.subplot(gs[:,1], projection='3d')\n",
    "ax2 = plt.subplot(gs[1,0])\n",
    "\n",
    "ax0.scatter(x[:,0], y, c='orange', label='Ground truth')\n",
    "ax0.set_title('Ground truth & Model', fontsize=16)\n",
    "ax0.set_ylim(-1, 6)\n",
    "ax0.legend(loc='lower right')\n",
    "line0, = ax0.plot([], [], label='Model')\n",
    "\n",
    "ax1.plot_surface(*mesh, loss, cmap='viridis', alpha=.7)\n",
    "ax1.set_title('Loss', fontsize=16, pad=20)\n",
    "ax1.plot3D([to_find[0]], [to_find[1]], [0], c='r', marker='x', markersize=10, label='Global minimum', linewidth=0)\n",
    "ax1.set_xlabel('w0');\n",
    "ax1.set_ylabel('w1');\n",
    "ax1.set_zlabel('Loss')\n",
    "ax1.view_init(30, 20)\n",
    "ax1.legend(loc='upper right')\n",
    "line1, = ax1.plot3D([], [], [], c='r', marker='o', alpha=0.4, label='loss')\n",
    "\n",
    "ax2.set_title('Weights & Loss', fontsize=16)\n",
    "ax2.set_xlim(0, eps); ax2.set_xlabel('epochs');\n",
    "ax2.set_ylim(-20, 5); ax2.set_ylabel('weights')\n",
    "ax2.legend((line2, line3, line4), ('w0', 'w1', 'loss'), loc='center right')\n",
    "ax3 = ax2.twinx()\n",
    "ax3.set_ybound(0, 500)\n",
    "ax3.set_ylabel('loss')\n",
    "line2, = ax2.plot([],[], label='w0')\n",
    "line3, = ax2.plot([],[], label='w1')\n",
    "line4, = ax3.plot([],[], label='loss', c='r')\n",
    "\n",
    "fig.tight_layout()\n",
    "fig.subplots_adjust(top=0.85)\n",
    "plt.close()"
   ]
  },
  {
   "cell_type": "code",
   "execution_count": null,
   "metadata": {},
   "outputs": [],
   "source": [
    "def animate(i):   \n",
    "    line0.set_data(x[:,0].numpy(), (x@rec_w[i]).numpy())\n",
    "    line1.set_data(rec_w[:i+1,0].numpy(), rec_w[:i+1,1].numpy())\n",
    "    line1.set_3d_properties(rec_loss[:i+1])\n",
    "    epochs = np.arange(i+1)\n",
    "    line2.set_data(epochs, rec_w[:i+1, 0].numpy())\n",
    "    line3.set_data(epochs, rec_w[:i+1, 1].numpy())\n",
    "    line4.set_data(epochs, rec_loss[:i+1])\n",
    "    ttl.set_text(f'LR: {lr} - Epoch: {i+1}/{eps}')\n",
    "    return line0, line1, line2, line3, line4, ttl\n",
    "\n",
    "ani = animation.FuncAnimation(fig, animate, range(eps), interval=40)\n",
    "ani"
   ]
  },
  {
   "cell_type": "code",
   "execution_count": null,
   "metadata": {},
   "outputs": [],
   "source": [
    "ani.save('src/lr0001.mp4', writer=writer)"
   ]
  },
  {
   "cell_type": "code",
   "execution_count": null,
   "metadata": {},
   "outputs": [],
   "source": [
    "def animate(i):   \n",
    "    line0.set_data(x[:,0].numpy(), (x@rec_w[i]).numpy())\n",
    "    line1.set_data(rec_w[:i+1,0].numpy(), rec_w[:i+1,1].numpy())\n",
    "    line1.set_3d_properties(rec_loss[:i+1])\n",
    "    epochs = np.arange(i+1)\n",
    "    line2.set_data(epochs, rec_w[:i+1, 0].numpy())\n",
    "    line3.set_data(epochs, rec_w[:i+1, 1].numpy())\n",
    "    line4.set_data(epochs, rec_loss[:i+1])\n",
    "    ttl.set_text(f'LR: {lr} - Epoch: {i+1}/{eps}')\n",
    "    return line0, line1, line2, line3, line4, ttl\n",
    "\n",
    "ani = animation.FuncAnimation(fig, animate, range(eps), interval=40)\n",
    "ani"
   ]
  },
  {
   "cell_type": "code",
   "execution_count": null,
   "metadata": {},
   "outputs": [],
   "source": [
    "ani.save('src/lr01.mp4', writer=writer)"
   ]
  },
  {
   "cell_type": "code",
   "execution_count": null,
   "metadata": {},
   "outputs": [],
   "source": [
    "def animate(i):   \n",
    "    line0.set_data(x[:,0].numpy(), (x@rec_w[i]).numpy())\n",
    "    line1.set_data(rec_w[:i+1,0].numpy(), rec_w[:i+1,1].numpy())\n",
    "    line1.set_3d_properties(rec_loss[:i+1])\n",
    "    epochs = np.arange(i+1)\n",
    "    line2.set_data(epochs, rec_w[:i+1, 0].numpy())\n",
    "    line3.set_data(epochs, rec_w[:i+1, 1].numpy())\n",
    "    line4.set_data(epochs, rec_loss[:i+1])\n",
    "    ttl.set_text(f'LR: {lr} - Epoch: {i+1}/{eps}')\n",
    "    return line0, line1, line2, line3, line4, ttl\n",
    "\n",
    "ani = animation.FuncAnimation(fig, animate, range(eps), interval=40)\n",
    "ani"
   ]
  },
  {
   "cell_type": "code",
   "execution_count": null,
   "metadata": {},
   "outputs": [],
   "source": [
    "ani.save('src/lr05.mp4', writer=writer)"
   ]
  },
  {
   "cell_type": "code",
   "execution_count": null,
   "metadata": {},
   "outputs": [],
   "source": [
    "def animate(i):   \n",
    "    line0.set_data(x[:,0].numpy(), (x@rec_w[i]).numpy())\n",
    "    line1.set_data(rec_w[:i+1,0].numpy(), rec_w[:i+1,1].numpy())\n",
    "    line1.set_3d_properties(rec_loss[:i+1])\n",
    "    epochs = np.arange(i+1)\n",
    "    line2.set_data(epochs, rec_w[:i+1, 0].numpy())\n",
    "    line3.set_data(epochs, rec_w[:i+1, 1].numpy())\n",
    "    line4.set_data(epochs, rec_loss[:i+1])\n",
    "    ttl.set_text(f'LR: {lr} - Epoch: {i+1}/{eps}')\n",
    "    return line0, line1, line2, line3, line4, ttl\n",
    "\n",
    "ani = animation.FuncAnimation(fig, animate, range(eps), interval=40)\n",
    "ani"
   ]
  },
  {
   "cell_type": "code",
   "execution_count": null,
   "metadata": {},
   "outputs": [],
   "source": [
    "ani.save('src/lr07.mp4', writer=writer)"
   ]
  },
  {
   "cell_type": "code",
   "execution_count": null,
   "metadata": {},
   "outputs": [],
   "source": [
    "def animate(i):   \n",
    "    line0.set_data(x[:,0].numpy(), (x@rec_w[i]).numpy())\n",
    "    line1.set_data(rec_w[:i+1,0].numpy(), rec_w[:i+1,1].numpy())\n",
    "    line1.set_3d_properties(rec_loss[:i+1])\n",
    "    epochs = np.arange(i+1)\n",
    "    line2.set_data(epochs, rec_w[:i+1, 0].numpy())\n",
    "    line3.set_data(epochs, rec_w[:i+1, 1].numpy())\n",
    "    line4.set_data(epochs, rec_loss[:i+1])\n",
    "    ttl.set_text(f'LR: {lr} - Epoch: {i+1}/{eps}')\n",
    "    return line0, line1, line2, line3, line4, ttl\n",
    "\n",
    "ani = animation.FuncAnimation(fig, animate, range(eps), interval=40)\n",
    "ani"
   ]
  },
  {
   "cell_type": "code",
   "execution_count": null,
   "metadata": {},
   "outputs": [],
   "source": [
    "ani.save('src/lr09.mp4', writer=writer)"
   ]
  },
  {
   "cell_type": "code",
   "execution_count": null,
   "metadata": {},
   "outputs": [],
   "source": [
    "def animate(i):   \n",
    "    line0.set_data(x[:,0].numpy(), (x@rec_w[i]).numpy())\n",
    "    line1.set_data(rec_w[:i+1,0].numpy(), rec_w[:i+1,1].numpy())\n",
    "    line1.set_3d_properties(rec_loss[:i+1])\n",
    "    epochs = np.arange(i+1)\n",
    "    line2.set_data(epochs, rec_w[:i+1, 0].numpy())\n",
    "    line3.set_data(epochs, rec_w[:i+1, 1].numpy())\n",
    "    line4.set_data(epochs, rec_loss[:i+1])\n",
    "    ttl.set_text(f'LR: {lr} - Epoch: {i+1}/{eps}')\n",
    "    return line0, line1, line2, line3, line4, ttl\n",
    "\n",
    "ani = animation.FuncAnimation(fig, animate, range(eps), interval=40)\n",
    "ani"
   ]
  },
  {
   "cell_type": "code",
   "execution_count": null,
   "metadata": {},
   "outputs": [],
   "source": [
    "ani.save('src/lr1001.mp4', writer=writer)"
   ]
  },
  {
   "cell_type": "markdown",
   "metadata": {},
   "source": [
    "## Results "
   ]
  },
  {
   "cell_type": "code",
   "execution_count": null,
   "metadata": {},
   "outputs": [
    {
     "data": {
      "text/html": [
       "<video src=\"src/lr0001.mp4\" controls  >\n",
       "      Your browser does not support the <code>video</code> element.\n",
       "    </video>"
      ],
      "text/plain": [
       "<IPython.core.display.Video object>"
      ]
     },
     "metadata": {},
     "output_type": "display_data"
    },
    {
     "data": {
      "text/html": [
       "<video src=\"src/lr01.mp4\" controls  >\n",
       "      Your browser does not support the <code>video</code> element.\n",
       "    </video>"
      ],
      "text/plain": [
       "<IPython.core.display.Video object>"
      ]
     },
     "metadata": {},
     "output_type": "display_data"
    },
    {
     "data": {
      "text/html": [
       "<video src=\"src/lr05.mp4\" controls  >\n",
       "      Your browser does not support the <code>video</code> element.\n",
       "    </video>"
      ],
      "text/plain": [
       "<IPython.core.display.Video object>"
      ]
     },
     "metadata": {},
     "output_type": "display_data"
    },
    {
     "data": {
      "text/html": [
       "<video src=\"src/lr07.mp4\" controls  >\n",
       "      Your browser does not support the <code>video</code> element.\n",
       "    </video>"
      ],
      "text/plain": [
       "<IPython.core.display.Video object>"
      ]
     },
     "metadata": {},
     "output_type": "display_data"
    },
    {
     "data": {
      "text/html": [
       "<video src=\"src/lr1001.mp4\" controls  >\n",
       "      Your browser does not support the <code>video</code> element.\n",
       "    </video>"
      ],
      "text/plain": [
       "<IPython.core.display.Video object>"
      ]
     },
     "metadata": {},
     "output_type": "display_data"
    }
   ],
   "source": [
    "from IPython.display import Video\n",
    "#display(Video('src/linear.mp4'))\n",
    "#display(Video('src/quadratic.mp4'))\n",
    "#display(Video('src/polynomial.mp4'))\n",
    "display(Video('src/lr0001.mp4'))\n",
    "display(Video('src/lr01.mp4'))\n",
    "display(Video('src/lr05.mp4'))\n",
    "display(Video('src/lr07.mp4'))\n",
    "display(Video('src/lr1001.mp4'))"
   ]
  },
  {
   "cell_type": "code",
   "execution_count": null,
   "metadata": {},
   "outputs": [],
   "source": []
  }
 ],
 "metadata": {
  "kernelspec": {
   "display_name": "Python 3",
   "language": "python",
   "name": "python3"
  }
 },
 "nbformat": 4,
 "nbformat_minor": 2
}
