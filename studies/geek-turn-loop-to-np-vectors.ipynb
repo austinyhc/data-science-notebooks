{
 "cells": [
  {
   "cell_type": "markdown",
   "metadata": {},
   "source": [
    "# Turn your conditional loops to Numpy vectors\n",
    "\n",
    "Vectorization trick is fairly well-known to data scientists and is used routinely in coding, to speed up the overall data transformation, where simple mathematical transformatios are performed over an iterable object e.g. a list. \n",
    "\n",
    "What is under-appreciated and overlooked is that it even pays to vectorize non-trivial code blocks such as conditional loops.\n",
    "\n",
    "The very first question every data scientist encountered is \"Python vs. R vs Julia\". I chose Python without any question, because unlike R or Julia, it is a general purpose language and not have a functional syntax to start with right out of the box. So, it needs specialized library.\n",
    "\n",
    "**Numpy**, short for [Numerical Python](http://www.numpy.org/), is the fundamental package requred for high performance scientific computing and data analysis in Python ecosystem. It is the foundation of which nearly all of the higher-level tools such as Pandas and scikit-learn are built. TensorFlow uses Numpy arrays as the fundamental building block on top of which they built their Tensor objects and graphflow for deep learning tasks (which makes heavy use of linear algebra operations on a long list/vector/matrix of numbers).\n",
    "\n",
    "Many Numpy operations are implemented in C, avoiding the general cost of loops in Python, pointer indirection and per-element dynamic type checking. The speed boost depends on which operations you're performing. For data science and modern machine learning tasks, this is an invaluable advantage."
   ]
  },
  {
   "cell_type": "code",
   "execution_count": 1,
   "metadata": {},
   "outputs": [],
   "source": [
    "import numpy as np\n",
    "import matplotlib.pyplot as plt\n",
    "from math import sin"
   ]
  },
  {
   "cell_type": "code",
   "execution_count": 2,
   "metadata": {},
   "outputs": [],
   "source": [
    "plt.style.use(['dark_background'])"
   ]
  },
  {
   "cell_type": "code",
   "execution_count": 3,
   "metadata": {},
   "outputs": [],
   "source": [
    "# Number of test points\n",
    "N = 5000"
   ]
  },
  {
   "cell_type": "code",
   "execution_count": 4,
   "metadata": {},
   "outputs": [
    {
     "data": {
      "image/png": "[encoded data removed]",
      "text/plain": [
       "<Figure size 864x288 with 2 Axes>"
      ]
     },
     "metadata": {},
     "output_type": "display_data"
    }
   ],
   "source": [
    "# List of stored elements, generated from a Normal distribution\n",
    "lst_x = np.random.randn(N)\n",
    "lst_y = np.random.randn(N)\n",
    "lst_result = []\n",
    "\n",
    "# Plots the data\n",
    "fig, axs = plt.subplots(1, 2, figsize=(12,4))\n",
    "axs[0].hist(lst_x,bins=20); axs[0].grid()\n",
    "axs[1].hist(lst_y,bins=20); axs[1].grid()"
   ]
  },
  {
   "cell_type": "code",
   "execution_count": 5,
   "metadata": {},
   "outputs": [],
   "source": [
    "from collections import defaultdict\n",
    "from IPython.core.magics.execution import TimeitResult\n",
    "results = defaultdict(TimeitResult)"
   ]
  },
  {
   "cell_type": "code",
   "execution_count": 6,
   "metadata": {},
   "outputs": [],
   "source": [
    "# Define a custom function with some if-else loops\n",
    "def myfunc(x,y): \n",
    "    if (x>0.5*y and y<0.3): return (sin(x-y)) \n",
    "    elif (x<0.5*y): return 0 \n",
    "    elif (x>0.2*y): return (2*sin(x+2*y)) \n",
    "    else: return (sin(y+x))"
   ]
  },
  {
   "cell_type": "code",
   "execution_count": 7,
   "metadata": {},
   "outputs": [
    {
     "name": "stdout",
     "output_type": "stream",
     "text": [
      "3.78 ms ± 114 µs per loop (mean ± std. dev. of 7 runs, 100 loops each)\n"
     ]
    },
    {
     "data": {
      "text/plain": [
       "<TimeitResult : 3.78 ms ± 114 µs per loop (mean ± std. dev. of 7 runs, 100 loops each)>"
      ]
     },
     "execution_count": 7,
     "metadata": {},
     "output_type": "execute_result"
    }
   ],
   "source": [
    "# Vanilla for-loop\n",
    "#%timeit -o for x,y in zip(lst_x, lst_y): lst_result.append(myfunc(x,y))\n",
    "# To make it less pythonic\n",
    "%timeit -o for i in range(N): lst_result.append(myfunc(lst_x[i],lst_y[i]))"
   ]
  },
  {
   "cell_type": "code",
   "execution_count": 8,
   "metadata": {},
   "outputs": [],
   "source": [
    "results['vanilla'] = _"
   ]
  },
  {
   "cell_type": "code",
   "execution_count": 9,
   "metadata": {},
   "outputs": [
    {
     "name": "stdout",
     "output_type": "stream",
     "text": [
      "2.69 ms ± 59.5 µs per loop (mean ± std. dev. of 7 runs, 100 loops each)\n"
     ]
    },
    {
     "data": {
      "text/plain": [
       "<TimeitResult : 2.69 ms ± 59.5 µs per loop (mean ± std. dev. of 7 runs, 100 loops each)>"
      ]
     },
     "execution_count": 9,
     "metadata": {},
     "output_type": "execute_result"
    }
   ],
   "source": [
    "# List comprehension\n",
    "%timeit -o lst_result = [myfunc(x,y) for x,y in zip(lst_x,lst_y)]"
   ]
  },
  {
   "cell_type": "code",
   "execution_count": 10,
   "metadata": {},
   "outputs": [],
   "source": [
    "results['list'] = _"
   ]
  },
  {
   "cell_type": "code",
   "execution_count": 11,
   "metadata": {},
   "outputs": [
    {
     "name": "stdout",
     "output_type": "stream",
     "text": [
      "2.38 ms ± 28.8 µs per loop (mean ± std. dev. of 7 runs, 100 loops each)\n"
     ]
    },
    {
     "data": {
      "text/plain": [
       "<TimeitResult : 2.38 ms ± 28.8 µs per loop (mean ± std. dev. of 7 runs, 100 loops each)>"
      ]
     },
     "execution_count": 11,
     "metadata": {},
     "output_type": "execute_result"
    }
   ],
   "source": [
    "# Map() function\n",
    "%timeit -o list(map(myfunc,lst_x,lst_y))"
   ]
  },
  {
   "cell_type": "code",
   "execution_count": 12,
   "metadata": {},
   "outputs": [],
   "source": [
    "results['map'] = _"
   ]
  },
  {
   "cell_type": "code",
   "execution_count": 13,
   "metadata": {},
   "outputs": [
    {
     "name": "stdout",
     "output_type": "stream",
     "text": [
      "1.76 ms ± 12 µs per loop (mean ± std. dev. of 7 runs, 1000 loops each)\n"
     ]
    },
    {
     "data": {
      "text/plain": [
       "<TimeitResult : 1.76 ms ± 12 µs per loop (mean ± std. dev. of 7 runs, 1000 loops each)>"
      ]
     },
     "execution_count": 13,
     "metadata": {},
     "output_type": "execute_result"
    }
   ],
   "source": [
    "# Numpy.vectorize method\n",
    "vectfunc = np.vectorize(myfunc,otypes=[np.float],cache=False)\n",
    "%timeit -o list(vectfunc(lst_x,lst_y))"
   ]
  },
  {
   "cell_type": "code",
   "execution_count": 14,
   "metadata": {},
   "outputs": [],
   "source": [
    "results['vec'] = _"
   ]
  },
  {
   "cell_type": "markdown",
   "metadata": {},
   "source": [
    "Notice that I have used **%timeit** [jupyter magic command](https://ipython.readthedocs.io/en/stable/interactive/magics.html) and done a trick to [store the result from cell magic](https://stackoverflow.com/questions/41351041/how-to-store-the-result-from-timeit-cell-magic) as a python global variable. By magic command, I am effectively running iterations of the same expression and averaging the execution time to avoid any random effect. By the trick, I am able to reuse the result for further visualizing and analyzing.\n",
    "\n",
    "We see the evidence that, for this data transformation task based on a series of conditional checks, the vectorization approach using numpy routinely gives some 20-50% speed-up compared to general Python methods.\n",
    "\n",
    "> It may not seem a dramatic improvement, but every bit of time saving adds up in a data science pipeline and pays back in the long run.\n",
    "\n",
    "In short, wherever you have a long list of data and need to perform some mathematical transformation over them, strongly consider tuning those python data structures (list or tuples or dictionaries) into `np.ndarray` objects and using inherent vectorization capabilites.\n",
    "\n",
    "[Numpy provides a C-API](https://docs.scipy.org/doc/numpy-1.13.0/reference/c-api.html) for even faster code execution but it takes away the simplicity of Pythonicism. This Scipy Lecture note shows all the related options you have in this regard.\n",
    "\n",
    "There is an entire open-source, online book on this topic by a French neuroscience researcher. [Check here](https://www.labri.fr/perso/nrougier/from-python-to-numpy/#id7)."
   ]
  },
  {
   "cell_type": "code",
   "execution_count": 15,
   "metadata": {},
   "outputs": [],
   "source": [
    "mean = [o.average*1e6 for o in results.values()]\n",
    "stdv = [o.stdev*1e6 for o in results.values()]"
   ]
  },
  {
   "cell_type": "code",
   "execution_count": 16,
   "metadata": {},
   "outputs": [
    {
     "data": {
      "image/png": "[encoded data removed]",
      "text/plain": [
       "<Figure size 432x288 with 1 Axes>"
      ]
     },
     "metadata": {},
     "output_type": "display_data"
    }
   ],
   "source": [
    "plt.barh(range(len(results)), mean, xerr=stdv, color='#487F7F', ecolor='white')\n",
    "plt.grid(axis='x')\n",
    "plt.gca().invert_yaxis()"
   ]
  },
  {
   "cell_type": "code",
   "execution_count": null,
   "metadata": {},
   "outputs": [],
   "source": []
  }
 ],
 "metadata": {
  "kernelspec": {
   "display_name": "Python 3",
   "language": "python",
   "name": "python3"
  },
  "language_info": {
   "codemirror_mode": {
    "name": "ipython",
    "version": 3
   },
   "file_extension": ".py",
   "mimetype": "text/x-python",
   "name": "python",
   "nbconvert_exporter": "python",
   "pygments_lexer": "ipython3",
   "version": "3.7.1"
  }
 },
 "nbformat": 4,
 "nbformat_minor": 2
}
