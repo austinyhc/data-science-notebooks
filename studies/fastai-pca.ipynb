{
 "cells": [
  {
   "cell_type": "markdown",
   "metadata": {},
   "source": [
    "# Dive into Fastai: pca\n",
    "\n",
    "```python\n",
    "def _pca(x, k=2):\n",
    "    x = x-torch.mean(x,0)\n",
    "    U,S,V = torch.svd(x.t())\n",
    "    return torch.mm(x,U[:,:k])\n",
    "\n",
    "torch.Tensor.pca = _pca\n",
    "```\n",
    "\n",
    "This amazes me that,\n",
    "1. `pca` can be implemented by such few lines of code\n",
    "    - [ ] What is [SVD](https://www.youtube.com/watch?v=EfZsEFhHcNM)\n",
    "2. I can add a method `.pca` to an existing class by just doing `torch.Tensor.pca = _pca`"
   ]
  },
  {
   "cell_type": "code",
   "execution_count": null,
   "metadata": {},
   "outputs": [],
   "source": []
  }
 ],
 "metadata": {
  "kernelspec": {
   "display_name": "Python 3",
   "language": "python",
   "name": "python3"
  },
  "language_info": {
   "codemirror_mode": {
    "name": "ipython",
    "version": 3
   },
   "file_extension": ".py",
   "mimetype": "text/x-python",
   "name": "python",
   "nbconvert_exporter": "python",
   "pygments_lexer": "ipython3",
   "version": "3.7.1"
  }
 },
 "nbformat": 4,
 "nbformat_minor": 2
}
