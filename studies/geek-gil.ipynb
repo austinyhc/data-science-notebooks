{
 "cells": [
  {
   "cell_type": "code",
   "execution_count": null,
   "metadata": {},
   "outputs": [],
   "source": [
    "%matplotlib inline\n",
    "%reload_ext autoreload\n",
    "%autoreload 2"
   ]
  },
  {
   "cell_type": "code",
   "execution_count": null,
   "metadata": {},
   "outputs": [],
   "source": [
    "from threading import Thread\n",
    "import gc"
   ]
  },
  {
   "cell_type": "code",
   "execution_count": null,
   "metadata": {},
   "outputs": [],
   "source": [
    "def countdown(n):\n",
    "    while n > 0: n -= 1"
   ]
  },
  {
   "cell_type": "code",
   "execution_count": null,
   "metadata": {},
   "outputs": [],
   "source": [
    "def implementation_1():\n",
    "    COUNT = 100_000_000 # 100 million\n",
    "    countdown(COUNT)\n",
    "\n",
    "def implementation_2():\n",
    "    COUNT = 100_000_000\n",
    "    t1 = Thread(target=countdown,args=(COUNT//2,))\n",
    "    t2 = Thread(target=countdown,args=(COUNT//2,))\n",
    "    t1.start(); t2.start()\n",
    "    t1.join(); t2.join()\n",
    "    "
   ]
  },
  {
   "cell_type": "code",
   "execution_count": null,
   "metadata": {},
   "outputs": [
    {
     "name": "stdout",
     "output_type": "stream",
     "text": [
      "CPU times: user 9.42 s, sys: 0 ns, total: 9.42 s\n",
      "Wall time: 9.54 s\n"
     ]
    }
   ],
   "source": [
    "%time implementation_1()"
   ]
  },
  {
   "cell_type": "code",
   "execution_count": null,
   "metadata": {},
   "outputs": [
    {
     "name": "stdout",
     "output_type": "stream",
     "text": [
      "CPU times: user 10.6 s, sys: 31.2 ms, total: 10.6 s\n",
      "Wall time: 10.8 s\n"
     ]
    }
   ],
   "source": [
    "%time implementation_2()"
   ]
  },
  {
   "cell_type": "code",
   "execution_count": null,
   "metadata": {},
   "outputs": [],
   "source": [
    "import dis"
   ]
  },
  {
   "cell_type": "code",
   "execution_count": null,
   "metadata": {},
   "outputs": [
    {
     "name": "stdout",
     "output_type": "stream",
     "text": [
      "  2           0 SETUP_LOOP              20 (to 22)\n",
      "        >>    2 LOAD_FAST                0 (n)\n",
      "              4 LOAD_CONST               1 (0)\n",
      "              6 COMPARE_OP               4 (>)\n",
      "              8 POP_JUMP_IF_FALSE       20\n",
      "             10 LOAD_FAST                0 (n)\n",
      "             12 LOAD_CONST               2 (1)\n",
      "             14 INPLACE_SUBTRACT\n",
      "             16 STORE_FAST               0 (n)\n",
      "             18 JUMP_ABSOLUTE            2\n",
      "        >>   20 POP_BLOCK\n",
      "        >>   22 LOAD_CONST               0 (None)\n",
      "             24 RETURN_VALUE\n"
     ]
    }
   ],
   "source": [
    "dis.dis(countdown)"
   ]
  },
  {
   "cell_type": "code",
   "execution_count": null,
   "metadata": {},
   "outputs": [],
   "source": []
  }
 ],
 "metadata": {
  "kernelspec": {
   "display_name": "Python 3",
   "language": "python",
   "name": "python3"
  }
 },
 "nbformat": 4,
 "nbformat_minor": 2
}
