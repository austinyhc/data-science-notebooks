{
 "cells": [
  {
   "cell_type": "markdown",
   "metadata": {
    "_uuid": "b05307c6e9faf65e975fe38dbf6f133e6a68af8d"
   },
   "source": [
    "## Overview\n",
    "\n",
    "The purpose of this kernel is to take a look at the data, come up with some insights, and attempt to create a predictive model or two. This notebook is still **very** raw. I will work on it as my very limited time permits, and hope to expend it in the upcoming days and weeks.\n",
    "\n",
    "NB: Most of the feature engineering and some of the modeling is based on [Peter Hurford's excellent kernel](https://www.kaggle.com/peterhurford/you-re-going-to-want-more-categories-lb-3-737/notebook) , and [another one by Konrad Banachevitz.](https://www.kaggle.com/konradb/lgb-fe-lb-3-707)"
   ]
  },
  {
   "cell_type": "markdown",
   "metadata": {},
   "source": [
    "## Imports"
   ]
  },
  {
   "cell_type": "code",
   "execution_count": 1,
   "metadata": {},
   "outputs": [],
   "source": [
    "%matplotlib inline\n",
    "%reload_ext autoreload\n",
    "%autoreload 2"
   ]
  },
  {
   "cell_type": "code",
   "execution_count": 2,
   "metadata": {},
   "outputs": [],
   "source": [
    "from fastai import *\n",
    "from fastai.vision import *\n",
    "from fastai.tabular import *\n",
    "from fastai.basics import *"
   ]
  },
  {
   "cell_type": "code",
   "execution_count": 3,
   "metadata": {
    "_cell_guid": "b1076dfc-b9ad-4769-8c92-a6c4dae69d19",
    "_uuid": "8f2839f25d086af736a60e9eeb907d3b93b6e0e5"
   },
   "outputs": [],
   "source": [
    "import numpy as np\n",
    "import pandas as pd\n",
    "import matplotlib.pyplot as plt\n",
    "import seaborn as sns\n",
    "\n",
    "from sklearn import preprocessing\n",
    "from sklearn.linear_model import Ridge\n",
    "from sklearn.model_selection import StratifiedKFold\n",
    "from sklearn.metrics import mean_squared_error\n",
    "\n",
    "import lightgbm as lgb\n",
    "import xgboost as xgb\n",
    "\n",
    "import datetime\n",
    "import warnings\n",
    "warnings.filterwarnings(\"ignore\")"
   ]
  },
  {
   "cell_type": "code",
   "execution_count": 4,
   "metadata": {},
   "outputs": [],
   "source": [
    "plt.style.use(['dark_background'])"
   ]
  },
  {
   "cell_type": "code",
   "execution_count": 5,
   "metadata": {
    "_uuid": "d95f16e2adc3092f173f84db8ae8e5e9741be587"
   },
   "outputs": [],
   "source": [
    "def reduce_mem_usage(df, verbose=True):\n",
    "    numerics = ['int16', 'int32', 'int64', 'float16', 'float32', 'float64']\n",
    "    start_mem = df.memory_usage().sum() / 1024**2    \n",
    "    for col in df.columns:\n",
    "        col_type = df[col].dtypes\n",
    "        if col_type in numerics:\n",
    "            c_min = df[col].min()\n",
    "            c_max = df[col].max()\n",
    "            if str(col_type)[:3] == 'int':\n",
    "                if c_min > np.iinfo(np.int8).min and c_max < np.iinfo(np.int8).max:\n",
    "                    df[col] = df[col].astype(np.int8)\n",
    "                elif c_min > np.iinfo(np.int16).min and c_max < np.iinfo(np.int16).max:\n",
    "                    df[col] = df[col].astype(np.int16)\n",
    "                elif c_min > np.iinfo(np.int32).min and c_max < np.iinfo(np.int32).max:\n",
    "                    df[col] = df[col].astype(np.int32)\n",
    "                elif c_min > np.iinfo(np.int64).min and c_max < np.iinfo(np.int64).max:\n",
    "                    df[col] = df[col].astype(np.int64)  \n",
    "            else:\n",
    "                if c_min > np.finfo(np.float16).min and c_max < np.finfo(np.float16).max:\n",
    "                    df[col] = df[col].astype(np.float16)\n",
    "                elif c_min > np.finfo(np.float32).min and c_max < np.finfo(np.float32).max:\n",
    "                    df[col] = df[col].astype(np.float32)\n",
    "                else:\n",
    "                    df[col] = df[col].astype(np.float64)    \n",
    "    end_mem = df.memory_usage().sum() / 1024**2\n",
    "    if verbose: print('Mem. usage decreased to {:5.2f} Mb ({:.1f}% reduction)'.format(end_mem, 100 * (start_mem - end_mem) / start_mem))\n",
    "    return df"
   ]
  },
  {
   "cell_type": "markdown",
   "metadata": {},
   "source": [
    "## Paths"
   ]
  },
  {
   "cell_type": "code",
   "execution_count": 6,
   "metadata": {
    "_uuid": "fc756f5a07aa306835fe5e24e933a8c6b21e7d7c"
   },
   "outputs": [
    {
     "data": {
      "text/plain": [
       "[PosixPath('/home/achen/.fastai/data/competitions/elo-merchant-category-recommendation/Data_Dictionary.xlsx'),\n",
       " PosixPath('/home/achen/.fastai/data/competitions/elo-merchant-category-recommendation/historical_transactions.csv'),\n",
       " PosixPath('/home/achen/.fastai/data/competitions/elo-merchant-category-recommendation/historical_transactions.csv.zip'),\n",
       " PosixPath('/home/achen/.fastai/data/competitions/elo-merchant-category-recommendation/merchants.csv'),\n",
       " PosixPath('/home/achen/.fastai/data/competitions/elo-merchant-category-recommendation/merchants.csv.zip'),\n",
       " PosixPath('/home/achen/.fastai/data/competitions/elo-merchant-category-recommendation/new_merchant_transactions.csv'),\n",
       " PosixPath('/home/achen/.fastai/data/competitions/elo-merchant-category-recommendation/new_merchant_transactions.csv.zip'),\n",
       " PosixPath('/home/achen/.fastai/data/competitions/elo-merchant-category-recommendation/sample_submission.csv.zip'),\n",
       " PosixPath('/home/achen/.fastai/data/competitions/elo-merchant-category-recommendation/test.csv'),\n",
       " PosixPath('/home/achen/.fastai/data/competitions/elo-merchant-category-recommendation/test.csv.zip'),\n",
       " PosixPath('/home/achen/.fastai/data/competitions/elo-merchant-category-recommendation/train.csv'),\n",
       " PosixPath('/home/achen/.fastai/data/competitions/elo-merchant-category-recommendation/train.csv.zip')]"
      ]
     },
     "execution_count": 6,
     "metadata": {},
     "output_type": "execute_result"
    }
   ],
   "source": [
    "PATH = Config.data_path()/'competitions/elo-merchant-category-recommendation/'\n",
    "#table_names = list(map(lambda p:p.stem, PATH.glob(\"*.csv\"))); table_names\n",
    "PATH.ls()"
   ]
  },
  {
   "cell_type": "markdown",
   "metadata": {
    "_uuid": "186afdd8cefab16d2a7fb3ffc2b178ef7b2c87a8"
   },
   "source": [
    "We see that in addition to the usual,`train`, `test` and `sample_submission` files, we also have `merchants`, `historical_transactions`, `new_merchant_transactions`, and even one (**HORROR!!!**) excel file - `Data_Dictionary`. The names of the files are pretty self-explanatory, but we'll take a look at them and explore them. First, let's look at the `train` and `test` files."
   ]
  },
  {
   "cell_type": "markdown",
   "metadata": {},
   "source": [
    "## EDA"
   ]
  },
  {
   "cell_type": "code",
   "execution_count": 7,
   "metadata": {
    "_uuid": "0c0c9c2f5f90bf0fc21aa8d664d0209ceb1e03fe"
   },
   "outputs": [],
   "source": [
    "train = pd.read_csv(PATH/\"train.csv\", parse_dates=[\"first_active_month\"])\n",
    "test  = pd.read_csv(PATH/\"test.csv\", parse_dates=[\"first_active_month\"])"
   ]
  },
  {
   "cell_type": "code",
   "execution_count": 8,
   "metadata": {},
   "outputs": [],
   "source": [
    "_merchant = pd.read_csv(PATH/\"merchants.csv\")"
   ]
  },
  {
   "cell_type": "code",
   "execution_count": 9,
   "metadata": {
    "_uuid": "0c0c9c2f5f90bf0fc21aa8d664d0209ceb1e03fe"
   },
   "outputs": [],
   "source": [
    "_new     = pd.read_csv(PATH/\"new_merchant_transactions.csv\", parse_dates=[\"purchase_date\"]) \n",
    "_history = pd.read_csv(PATH/\"historical_transactions.csv\", parse_dates=[\"purchase_date\"])"
   ]
  },
  {
   "cell_type": "code",
   "execution_count": 10,
   "metadata": {},
   "outputs": [
    {
     "data": {
      "text/plain": [
       "((201917, 6), (123623, 5))"
      ]
     },
     "execution_count": 10,
     "metadata": {},
     "output_type": "execute_result"
    }
   ],
   "source": [
    "train.shape, test.shape"
   ]
  },
  {
   "cell_type": "code",
   "execution_count": 11,
   "metadata": {},
   "outputs": [
    {
     "data": {
      "text/plain": [
       "((1963031, 14), (29112361, 14), (334696, 22))"
      ]
     },
     "execution_count": 11,
     "metadata": {},
     "output_type": "execute_result"
    }
   ],
   "source": [
    "_new.shape, _history.shape, _merchant.shape"
   ]
  },
  {
   "cell_type": "code",
   "execution_count": 12,
   "metadata": {
    "_uuid": "c1531fe28a8484caeb387ff3d485ad4bff98b270"
   },
   "outputs": [
    {
     "data": {
      "text/html": [
       "<div>\n",
       "<style scoped>\n",
       "    .dataframe tbody tr th:only-of-type {\n",
       "        vertical-align: middle;\n",
       "    }\n",
       "\n",
       "    .dataframe tbody tr th {\n",
       "        vertical-align: top;\n",
       "    }\n",
       "\n",
       "    .dataframe thead th {\n",
       "        text-align: right;\n",
       "    }\n",
       "</style>\n",
       "<table border=\"1\" class=\"dataframe\">\n",
       "  <thead>\n",
       "    <tr style=\"text-align: right;\">\n",
       "      <th></th>\n",
       "      <th>first_active_month</th>\n",
       "      <th>card_id</th>\n",
       "      <th>feature_1</th>\n",
       "      <th>feature_2</th>\n",
       "      <th>feature_3</th>\n",
       "      <th>target</th>\n",
       "    </tr>\n",
       "  </thead>\n",
       "  <tbody>\n",
       "    <tr>\n",
       "      <th>0</th>\n",
       "      <td>2017-06-01</td>\n",
       "      <td>C_ID_92a2005557</td>\n",
       "      <td>5</td>\n",
       "      <td>2</td>\n",
       "      <td>1</td>\n",
       "      <td>-0.820283</td>\n",
       "    </tr>\n",
       "    <tr>\n",
       "      <th>1</th>\n",
       "      <td>2017-01-01</td>\n",
       "      <td>C_ID_3d0044924f</td>\n",
       "      <td>4</td>\n",
       "      <td>1</td>\n",
       "      <td>0</td>\n",
       "      <td>0.392913</td>\n",
       "    </tr>\n",
       "    <tr>\n",
       "      <th>2</th>\n",
       "      <td>2016-08-01</td>\n",
       "      <td>C_ID_d639edf6cd</td>\n",
       "      <td>2</td>\n",
       "      <td>2</td>\n",
       "      <td>0</td>\n",
       "      <td>0.688056</td>\n",
       "    </tr>\n",
       "    <tr>\n",
       "      <th>3</th>\n",
       "      <td>2017-09-01</td>\n",
       "      <td>C_ID_186d6a6901</td>\n",
       "      <td>4</td>\n",
       "      <td>3</td>\n",
       "      <td>0</td>\n",
       "      <td>0.142495</td>\n",
       "    </tr>\n",
       "    <tr>\n",
       "      <th>4</th>\n",
       "      <td>2017-11-01</td>\n",
       "      <td>C_ID_cdbd2c0db2</td>\n",
       "      <td>1</td>\n",
       "      <td>3</td>\n",
       "      <td>0</td>\n",
       "      <td>-0.159749</td>\n",
       "    </tr>\n",
       "  </tbody>\n",
       "</table>\n",
       "</div>"
      ],
      "text/plain": [
       "  first_active_month          card_id  feature_1  feature_2  feature_3  \\\n",
       "0         2017-06-01  C_ID_92a2005557          5          2          1   \n",
       "1         2017-01-01  C_ID_3d0044924f          4          1          0   \n",
       "2         2016-08-01  C_ID_d639edf6cd          2          2          0   \n",
       "3         2017-09-01  C_ID_186d6a6901          4          3          0   \n",
       "4         2017-11-01  C_ID_cdbd2c0db2          1          3          0   \n",
       "\n",
       "     target  \n",
       "0 -0.820283  \n",
       "1  0.392913  \n",
       "2  0.688056  \n",
       "3  0.142495  \n",
       "4 -0.159749  "
      ]
     },
     "execution_count": 12,
     "metadata": {},
     "output_type": "execute_result"
    }
   ],
   "source": [
    "train.head()"
   ]
  },
  {
   "cell_type": "code",
   "execution_count": 13,
   "metadata": {
    "_uuid": "a38ec0dbedbf2163ff7b1bec3ffa27346d5c1921"
   },
   "outputs": [
    {
     "data": {
      "text/html": [
       "<div>\n",
       "<style scoped>\n",
       "    .dataframe tbody tr th:only-of-type {\n",
       "        vertical-align: middle;\n",
       "    }\n",
       "\n",
       "    .dataframe tbody tr th {\n",
       "        vertical-align: top;\n",
       "    }\n",
       "\n",
       "    .dataframe thead th {\n",
       "        text-align: right;\n",
       "    }\n",
       "</style>\n",
       "<table border=\"1\" class=\"dataframe\">\n",
       "  <thead>\n",
       "    <tr style=\"text-align: right;\">\n",
       "      <th></th>\n",
       "      <th>first_active_month</th>\n",
       "      <th>card_id</th>\n",
       "      <th>feature_1</th>\n",
       "      <th>feature_2</th>\n",
       "      <th>feature_3</th>\n",
       "    </tr>\n",
       "  </thead>\n",
       "  <tbody>\n",
       "    <tr>\n",
       "      <th>0</th>\n",
       "      <td>2017-04-01</td>\n",
       "      <td>C_ID_0ab67a22ab</td>\n",
       "      <td>3</td>\n",
       "      <td>3</td>\n",
       "      <td>1</td>\n",
       "    </tr>\n",
       "    <tr>\n",
       "      <th>1</th>\n",
       "      <td>2017-01-01</td>\n",
       "      <td>C_ID_130fd0cbdd</td>\n",
       "      <td>2</td>\n",
       "      <td>3</td>\n",
       "      <td>0</td>\n",
       "    </tr>\n",
       "    <tr>\n",
       "      <th>2</th>\n",
       "      <td>2017-08-01</td>\n",
       "      <td>C_ID_b709037bc5</td>\n",
       "      <td>5</td>\n",
       "      <td>1</td>\n",
       "      <td>1</td>\n",
       "    </tr>\n",
       "    <tr>\n",
       "      <th>3</th>\n",
       "      <td>2017-12-01</td>\n",
       "      <td>C_ID_d27d835a9f</td>\n",
       "      <td>2</td>\n",
       "      <td>1</td>\n",
       "      <td>0</td>\n",
       "    </tr>\n",
       "    <tr>\n",
       "      <th>4</th>\n",
       "      <td>2015-12-01</td>\n",
       "      <td>C_ID_2b5e3df5c2</td>\n",
       "      <td>5</td>\n",
       "      <td>1</td>\n",
       "      <td>1</td>\n",
       "    </tr>\n",
       "  </tbody>\n",
       "</table>\n",
       "</div>"
      ],
      "text/plain": [
       "  first_active_month          card_id  feature_1  feature_2  feature_3\n",
       "0         2017-04-01  C_ID_0ab67a22ab          3          3          1\n",
       "1         2017-01-01  C_ID_130fd0cbdd          2          3          0\n",
       "2         2017-08-01  C_ID_b709037bc5          5          1          1\n",
       "3         2017-12-01  C_ID_d27d835a9f          2          1          0\n",
       "4         2015-12-01  C_ID_2b5e3df5c2          5          1          1"
      ]
     },
     "execution_count": 13,
     "metadata": {},
     "output_type": "execute_result"
    }
   ],
   "source": [
    "test.head()"
   ]
  },
  {
   "cell_type": "markdown",
   "metadata": {
    "_uuid": "fb61542f287afe3180e2af13dd8279dd4a2f3a42"
   },
   "source": [
    "Seems farily straightforward - just ID, first active months, three anonimous features, and target field for train set.\n",
    "\n",
    "Let's take a look at the target variable:"
   ]
  },
  {
   "cell_type": "code",
   "execution_count": 14,
   "metadata": {
    "_uuid": "a5d7d3007de2483606a8b518f097917c18fd3e0e"
   },
   "outputs": [
    {
     "data": {
      "text/plain": [
       "count    201917.000000\n",
       "mean         -0.393636\n",
       "std           3.850500\n",
       "min         -33.219281\n",
       "25%          -0.883110\n",
       "50%          -0.023437\n",
       "75%           0.765453\n",
       "max          17.965068\n",
       "Name: target, dtype: float64"
      ]
     },
     "execution_count": 14,
     "metadata": {},
     "output_type": "execute_result"
    }
   ],
   "source": [
    "train.target.describe()"
   ]
  },
  {
   "cell_type": "markdown",
   "metadata": {
    "_uuid": "898f72ebac71a0cdb75d2a88376d3373766620ca"
   },
   "source": [
    "Seems like a very wide range of values, relatively spaking. Let's take a look at the graph of the distribution:"
   ]
  },
  {
   "cell_type": "code",
   "execution_count": 15,
   "metadata": {},
   "outputs": [
    {
     "data": {
      "image/png": "[encoded data removed]",
      "text/plain": [
       "<Figure size 864x360 with 1 Axes>"
      ]
     },
     "metadata": {},
     "output_type": "display_data"
    }
   ],
   "source": [
    "train.target.hist(bins=200, figsize=(12,5));\n",
    "#plt.title('Histogram target counts');\n",
    "#plt.xlabel('Count');\n",
    "#plt.ylabel('Target');"
   ]
  },
  {
   "cell_type": "markdown",
   "metadata": {
    "_uuid": "cf99081474f63fbc24b477687f59c38d1a7fac85"
   },
   "source": [
    "Seems like a pretty nice normal-looking distribution, except for the few anomalous elements at the far left. They will have to be dealt with separately."
   ]
  },
  {
   "cell_type": "markdown",
   "metadata": {
    "_uuid": "9459fdba4a9c005326dd8b7b63039fabf1865b0e"
   },
   "source": [
    "Let's now look at the distributions of various \"features\""
   ]
  },
  {
   "cell_type": "code",
   "execution_count": 16,
   "metadata": {},
   "outputs": [
    {
     "data": {
      "image/png": "[encoded data removed]",
      "text/plain": [
       "<Figure size 864x1080 with 3 Axes>"
      ]
     },
     "metadata": {},
     "output_type": "display_data"
    }
   ],
   "source": [
    "fig,axes = plt.subplots(3,1,figsize=(12,15))\n",
    "cols = ['feature_1', 'feature_2', 'feature_3']\n",
    "for ax,c in zip(axes.flatten(), cols):\n",
    "    ax.set_title(c)\n",
    "    train[c].hist(ax=ax, bins=200)"
   ]
  },
  {
   "cell_type": "markdown",
   "metadata": {
    "_uuid": "59cd40c338ec080eee3816fd3301bdf8815a40e6"
   },
   "source": [
    "A couple of things that stand out are:\n",
    "\n",
    "1. There are only a handful of values for each of the three features.\n",
    "2. They are discrete\n",
    "3. They are relatively eavenly distributed.\n",
    "\n",
    "All of this suggests that these features are categorical and have been label-encoded. "
   ]
  },
  {
   "cell_type": "markdown",
   "metadata": {
    "_uuid": "05209ca8d97f761026845453145c3a5cd26b5b5c"
   },
   "source": [
    "## Feature Extraction"
   ]
  },
  {
   "cell_type": "markdown",
   "metadata": {},
   "source": [
    "Add time information"
   ]
  },
  {
   "cell_type": "code",
   "execution_count": 17,
   "metadata": {},
   "outputs": [],
   "source": [
    "add_datepart(train, \"first_active_month\", drop=False)\n",
    "add_datepart(test, \"first_active_month\", drop=False)"
   ]
  },
  {
   "cell_type": "code",
   "execution_count": 18,
   "metadata": {},
   "outputs": [],
   "source": [
    "train['elapsed'] = (datetime.date(2018, 2, 1) - train.first_active_month.dt.date).dt.days\n",
    "test['elapsed']  = (datetime.date(2018, 2, 1) - test.first_active_month.dt.date).dt.days"
   ]
  },
  {
   "cell_type": "markdown",
   "metadata": {
    "_uuid": "4c717c69db1c781442ad94c474a72694a60c7972"
   },
   "source": [
    "Label outliers and for level stratifying. This idea is from [this kernel](https://www.kaggle.com/chauhuynh/my-first-kernel-3-699)."
   ]
  },
  {
   "cell_type": "code",
   "execution_count": 19,
   "metadata": {},
   "outputs": [],
   "source": [
    "train['outlier'] = 0\n",
    "train.loc[train['target']<-30, 'outliers'] = 1"
   ]
  },
  {
   "cell_type": "code",
   "execution_count": 20,
   "metadata": {},
   "outputs": [],
   "source": [
    "find_common = lambda df1,df2 : list(set(df1.columns).intersection(set(df2.columns)))\n",
    "\n",
    "def join_df(left, right, left_on, right_on=None, suffix='_y'):\n",
    "    if right_on is None: right_on = left_on\n",
    "    return left.merge(right, how='left', left_on=left_on, right_on=right_on, \n",
    "                      suffixes=(\"\", suffix))"
   ]
  },
  {
   "cell_type": "code",
   "execution_count": 22,
   "metadata": {},
   "outputs": [
    {
     "data": {
      "text/plain": [
       "(['card_id'], ['card_id'])"
      ]
     },
     "execution_count": 22,
     "metadata": {},
     "output_type": "execute_result"
    }
   ],
   "source": [
    "find_common(train, _new), find_common(train, _history)"
   ]
  },
  {
   "cell_type": "code",
   "execution_count": null,
   "metadata": {},
   "outputs": [],
   "source": [
    "joined.to_pickle(PATH/'joined_0')\n",
    "joined_test.to_pickle(PATH/'joined_test_0')"
   ]
  },
  {
   "cell_type": "code",
   "execution_count": null,
   "metadata": {},
   "outputs": [],
   "source": [
    "joined = pd.read_pickle(PATH/'joined_0')\n",
    "joined_test = pd.read_pickle(PATH/'joined_test_0')"
   ]
  },
  {
   "cell_type": "code",
   "execution_count": null,
   "metadata": {},
   "outputs": [],
   "source": [
    "joined = join_df(joined, new, left_on='card_id')\n",
    "joined_test = join_df(joined_test, new, left_on='card_id')"
   ]
  },
  {
   "cell_type": "code",
   "execution_count": null,
   "metadata": {},
   "outputs": [],
   "source": [
    "for df in (joined, joined_test):\n",
    "    for c in df.columns:\n",
    "        if c.endswith('_y'):\n",
    "            if c in df.columns: df.drop(c, inplace=True, axis=1)"
   ]
  },
  {
   "cell_type": "markdown",
   "metadata": {},
   "source": [
    "Lets join more tables later\n",
    "- [ ] history - authorized\n",
    "- [ ] history - unauthorized\n",
    "- [ ] final_group\n",
    "- [ ] auth_mean"
   ]
  },
  {
   "cell_type": "markdown",
   "metadata": {},
   "source": [
    "## EON "
   ]
  },
  {
   "cell_type": "code",
   "execution_count": 23,
   "metadata": {
    "_uuid": "5cf61d938b3cd4455e03c2aef646f60a87cad825"
   },
   "outputs": [],
   "source": [
    "def binarize(df):\n",
    "    for col in ['authorized_flag', 'category_1']:\n",
    "        df[col] = df[col].map({'Y':1, 'N':0})\n",
    "    return df"
   ]
  },
  {
   "cell_type": "code",
   "execution_count": 24,
   "metadata": {
    "_uuid": "5cf61d938b3cd4455e03c2aef646f60a87cad825"
   },
   "outputs": [],
   "source": [
    "_history = binarize(_history)\n",
    "_new     = binarize(_new)"
   ]
  },
  {
   "cell_type": "code",
   "execution_count": 25,
   "metadata": {
    "_uuid": "0b3bf9325c2c7a2ec89d9f782029e5c2aacbf81e"
   },
   "outputs": [],
   "source": [
    "_history = pd.get_dummies(_history, columns=['category_2', 'category_3'])\n",
    "_new     = pd.get_dummies(_new,     columns=['category_2', 'category_3'])"
   ]
  },
  {
   "cell_type": "code",
   "execution_count": 26,
   "metadata": {
    "_uuid": "0b3bf9325c2c7a2ec89d9f782029e5c2aacbf81e"
   },
   "outputs": [
    {
     "name": "stdout",
     "output_type": "stream",
     "text": [
      "Mem. usage decreased to 1304.89 Mb (54.8% reduction)\n",
      "Mem. usage decreased to 84.24 Mb (56.7% reduction)\n"
     ]
    }
   ],
   "source": [
    "_history = reduce_mem_usage(_history)\n",
    "_new     = reduce_mem_usage(_new)"
   ]
  },
  {
   "cell_type": "code",
   "execution_count": 27,
   "metadata": {},
   "outputs": [],
   "source": [
    "agg_func = {'authorized_flag' : ['sum', 'mean']}\n",
    "auth_mean = _history.groupby(['card_id']).agg(agg_func)"
   ]
  },
  {
   "cell_type": "code",
   "execution_count": 28,
   "metadata": {},
   "outputs": [],
   "source": [
    "# Convert multi-index label to single-index label\n",
    "auth_mean.columns = ['_'.join(col).strip() for col in auth_mean.columns.values]\n",
    "auth_mean.reset_index(inplace=True)"
   ]
  },
  {
   "cell_type": "code",
   "execution_count": 33,
   "metadata": {
    "_uuid": "0b3bf9325c2c7a2ec89d9f782029e5c2aacbf81e"
   },
   "outputs": [],
   "source": [
    "_auth   = _history[_history['authorized_flag'] == 1]\n",
    "_unauth = _history[_history['authorized_flag'] == 0]"
   ]
  },
  {
   "cell_type": "code",
   "execution_count": 34,
   "metadata": {
    "_uuid": "71c22f0abc1b90c285a78812acc5b5c6c57eb7c1"
   },
   "outputs": [],
   "source": [
    "_unauth['purchase_month'] = _unauth['purchase_date'].dt.month\n",
    "_auth['purchase_month']   = _auth['purchase_date'].dt.month\n",
    "_new['purchase_month']    = _new['purchase_date'].dt.month"
   ]
  },
  {
   "cell_type": "code",
   "execution_count": 35,
   "metadata": {
    "_uuid": "73e7ce787e9e4884b309346ab22e82dce23a314b"
   },
   "outputs": [],
   "source": [
    "def aggregate_transactions(history):\n",
    "    \n",
    "    history.loc[:, 'purchase_date'] = pd.DatetimeIndex(history['purchase_date']).\\\n",
    "                                      astype(np.int64) * 1e-9\n",
    "    \n",
    "    agg_func = {\n",
    "        'category_1': ['sum', 'mean'],\n",
    "        'category_2_1.0': ['mean'],\n",
    "        'category_2_2.0': ['mean'],\n",
    "        'category_2_3.0': ['mean'],\n",
    "        'category_2_4.0': ['mean'],\n",
    "        'category_2_5.0': ['mean'],\n",
    "        'category_3_A': ['mean'],\n",
    "        'category_3_B': ['mean'],\n",
    "        'category_3_C': ['mean'],\n",
    "        'merchant_id': ['nunique'],\n",
    "        'merchant_category_id': ['nunique'],\n",
    "        'state_id': ['nunique'],\n",
    "        'city_id': ['nunique'],\n",
    "        'subsector_id': ['nunique'],\n",
    "        'purchase_amount': ['sum', 'mean', 'max', 'min', 'std'],\n",
    "        'installments': ['sum', 'mean', 'max', 'min', 'std'],\n",
    "        'purchase_month': ['mean', 'max', 'min', 'std'],\n",
    "        'purchase_date': [np.ptp, 'min', 'max'],\n",
    "        'month_lag': ['min', 'max']\n",
    "        }\n",
    "    \n",
    "    agg_history = history.groupby(['card_id']).agg(agg_func)\n",
    "    agg_history.columns = ['_'.join(col).strip() for col in agg_history.columns.values]\n",
    "    agg_history.reset_index(inplace=True)\n",
    "    \n",
    "    df = (history.groupby('card_id')\n",
    "          .size()\n",
    "          .reset_index(name='transactions_count'))\n",
    "    \n",
    "    agg_history = pd.merge(df, agg_history, on='card_id', how='left')\n",
    "    \n",
    "    return agg_history\n"
   ]
  },
  {
   "cell_type": "code",
   "execution_count": 36,
   "metadata": {
    "_uuid": "31956c30b5a2ebadee300181dad44f702a8df644"
   },
   "outputs": [
    {
     "data": {
      "text/html": [
       "<div>\n",
       "<style scoped>\n",
       "    .dataframe tbody tr th:only-of-type {\n",
       "        vertical-align: middle;\n",
       "    }\n",
       "\n",
       "    .dataframe tbody tr th {\n",
       "        vertical-align: top;\n",
       "    }\n",
       "\n",
       "    .dataframe thead th {\n",
       "        text-align: right;\n",
       "    }\n",
       "</style>\n",
       "<table border=\"1\" class=\"dataframe\">\n",
       "  <thead>\n",
       "    <tr style=\"text-align: right;\">\n",
       "      <th></th>\n",
       "      <th>card_id</th>\n",
       "      <th>unauth_transactions_count</th>\n",
       "      <th>unauth_category_1_sum</th>\n",
       "      <th>unauth_category_1_mean</th>\n",
       "      <th>unauth_category_2_1.0_mean</th>\n",
       "      <th>unauth_category_2_2.0_mean</th>\n",
       "      <th>unauth_category_2_3.0_mean</th>\n",
       "      <th>unauth_category_2_4.0_mean</th>\n",
       "      <th>unauth_category_2_5.0_mean</th>\n",
       "      <th>unauth_category_3_A_mean</th>\n",
       "      <th>...</th>\n",
       "      <th>unauth_installments_std</th>\n",
       "      <th>unauth_purchase_month_mean</th>\n",
       "      <th>unauth_purchase_month_max</th>\n",
       "      <th>unauth_purchase_month_min</th>\n",
       "      <th>unauth_purchase_month_std</th>\n",
       "      <th>unauth_purchase_date_ptp</th>\n",
       "      <th>unauth_purchase_date_min</th>\n",
       "      <th>unauth_purchase_date_max</th>\n",
       "      <th>unauth_month_lag_min</th>\n",
       "      <th>unauth_month_lag_max</th>\n",
       "    </tr>\n",
       "  </thead>\n",
       "  <tbody>\n",
       "    <tr>\n",
       "      <th>0</th>\n",
       "      <td>C_ID_00007093c1</td>\n",
       "      <td>35</td>\n",
       "      <td>4.0</td>\n",
       "      <td>0.114286</td>\n",
       "      <td>0.000000</td>\n",
       "      <td>0.000000</td>\n",
       "      <td>0.885714</td>\n",
       "      <td>0.0</td>\n",
       "      <td>0.000000</td>\n",
       "      <td>0.000000</td>\n",
       "      <td>...</td>\n",
       "      <td>0.667367</td>\n",
       "      <td>5.914286</td>\n",
       "      <td>12</td>\n",
       "      <td>1</td>\n",
       "      <td>3.071419</td>\n",
       "      <td>28858113.0</td>\n",
       "      <td>1.489250e+09</td>\n",
       "      <td>1.518108e+09</td>\n",
       "      <td>-11</td>\n",
       "      <td>0</td>\n",
       "    </tr>\n",
       "    <tr>\n",
       "      <th>1</th>\n",
       "      <td>C_ID_0001238066</td>\n",
       "      <td>3</td>\n",
       "      <td>0.0</td>\n",
       "      <td>0.000000</td>\n",
       "      <td>0.333333</td>\n",
       "      <td>0.000000</td>\n",
       "      <td>0.000000</td>\n",
       "      <td>0.0</td>\n",
       "      <td>0.666667</td>\n",
       "      <td>0.000000</td>\n",
       "      <td>...</td>\n",
       "      <td>0.000000</td>\n",
       "      <td>8.666667</td>\n",
       "      <td>12</td>\n",
       "      <td>2</td>\n",
       "      <td>5.773503</td>\n",
       "      <td>3609150.0</td>\n",
       "      <td>1.514660e+09</td>\n",
       "      <td>1.518269e+09</td>\n",
       "      <td>-2</td>\n",
       "      <td>0</td>\n",
       "    </tr>\n",
       "    <tr>\n",
       "      <th>2</th>\n",
       "      <td>C_ID_0001506ef0</td>\n",
       "      <td>4</td>\n",
       "      <td>0.0</td>\n",
       "      <td>0.000000</td>\n",
       "      <td>0.000000</td>\n",
       "      <td>0.000000</td>\n",
       "      <td>1.000000</td>\n",
       "      <td>0.0</td>\n",
       "      <td>0.000000</td>\n",
       "      <td>0.750000</td>\n",
       "      <td>...</td>\n",
       "      <td>0.500000</td>\n",
       "      <td>5.500000</td>\n",
       "      <td>12</td>\n",
       "      <td>2</td>\n",
       "      <td>4.725816</td>\n",
       "      <td>22098875.0</td>\n",
       "      <td>1.496772e+09</td>\n",
       "      <td>1.518871e+09</td>\n",
       "      <td>-8</td>\n",
       "      <td>0</td>\n",
       "    </tr>\n",
       "    <tr>\n",
       "      <th>3</th>\n",
       "      <td>C_ID_0001793786</td>\n",
       "      <td>27</td>\n",
       "      <td>2.0</td>\n",
       "      <td>0.074074</td>\n",
       "      <td>0.111111</td>\n",
       "      <td>0.296296</td>\n",
       "      <td>0.111111</td>\n",
       "      <td>0.0</td>\n",
       "      <td>0.000000</td>\n",
       "      <td>0.814815</td>\n",
       "      <td>...</td>\n",
       "      <td>0.395847</td>\n",
       "      <td>6.481481</td>\n",
       "      <td>9</td>\n",
       "      <td>3</td>\n",
       "      <td>2.375684</td>\n",
       "      <td>16780236.0</td>\n",
       "      <td>1.488636e+09</td>\n",
       "      <td>1.505416e+09</td>\n",
       "      <td>-7</td>\n",
       "      <td>-1</td>\n",
       "    </tr>\n",
       "    <tr>\n",
       "      <th>4</th>\n",
       "      <td>C_ID_000183fdda</td>\n",
       "      <td>7</td>\n",
       "      <td>0.0</td>\n",
       "      <td>0.000000</td>\n",
       "      <td>0.000000</td>\n",
       "      <td>0.000000</td>\n",
       "      <td>1.000000</td>\n",
       "      <td>0.0</td>\n",
       "      <td>0.000000</td>\n",
       "      <td>0.000000</td>\n",
       "      <td>...</td>\n",
       "      <td>2.288689</td>\n",
       "      <td>8.285714</td>\n",
       "      <td>10</td>\n",
       "      <td>8</td>\n",
       "      <td>0.755929</td>\n",
       "      <td>6701589.0</td>\n",
       "      <td>1.502099e+09</td>\n",
       "      <td>1.508801e+09</td>\n",
       "      <td>-6</td>\n",
       "      <td>-4</td>\n",
       "    </tr>\n",
       "  </tbody>\n",
       "</table>\n",
       "<p>5 rows × 36 columns</p>\n",
       "</div>"
      ],
      "text/plain": [
       "           card_id  unauth_transactions_count  unauth_category_1_sum  \\\n",
       "0  C_ID_00007093c1                         35                    4.0   \n",
       "1  C_ID_0001238066                          3                    0.0   \n",
       "2  C_ID_0001506ef0                          4                    0.0   \n",
       "3  C_ID_0001793786                         27                    2.0   \n",
       "4  C_ID_000183fdda                          7                    0.0   \n",
       "\n",
       "   unauth_category_1_mean  unauth_category_2_1.0_mean  \\\n",
       "0                0.114286                    0.000000   \n",
       "1                0.000000                    0.333333   \n",
       "2                0.000000                    0.000000   \n",
       "3                0.074074                    0.111111   \n",
       "4                0.000000                    0.000000   \n",
       "\n",
       "   unauth_category_2_2.0_mean  unauth_category_2_3.0_mean  \\\n",
       "0                    0.000000                    0.885714   \n",
       "1                    0.000000                    0.000000   \n",
       "2                    0.000000                    1.000000   \n",
       "3                    0.296296                    0.111111   \n",
       "4                    0.000000                    1.000000   \n",
       "\n",
       "   unauth_category_2_4.0_mean  unauth_category_2_5.0_mean  \\\n",
       "0                         0.0                    0.000000   \n",
       "1                         0.0                    0.666667   \n",
       "2                         0.0                    0.000000   \n",
       "3                         0.0                    0.000000   \n",
       "4                         0.0                    0.000000   \n",
       "\n",
       "   unauth_category_3_A_mean          ...           unauth_installments_std  \\\n",
       "0                  0.000000          ...                          0.667367   \n",
       "1                  0.000000          ...                          0.000000   \n",
       "2                  0.750000          ...                          0.500000   \n",
       "3                  0.814815          ...                          0.395847   \n",
       "4                  0.000000          ...                          2.288689   \n",
       "\n",
       "   unauth_purchase_month_mean  unauth_purchase_month_max  \\\n",
       "0                    5.914286                         12   \n",
       "1                    8.666667                         12   \n",
       "2                    5.500000                         12   \n",
       "3                    6.481481                          9   \n",
       "4                    8.285714                         10   \n",
       "\n",
       "   unauth_purchase_month_min  unauth_purchase_month_std  \\\n",
       "0                          1                   3.071419   \n",
       "1                          2                   5.773503   \n",
       "2                          2                   4.725816   \n",
       "3                          3                   2.375684   \n",
       "4                          8                   0.755929   \n",
       "\n",
       "   unauth_purchase_date_ptp  unauth_purchase_date_min  \\\n",
       "0                28858113.0              1.489250e+09   \n",
       "1                 3609150.0              1.514660e+09   \n",
       "2                22098875.0              1.496772e+09   \n",
       "3                16780236.0              1.488636e+09   \n",
       "4                 6701589.0              1.502099e+09   \n",
       "\n",
       "   unauth_purchase_date_max  unauth_month_lag_min  unauth_month_lag_max  \n",
       "0              1.518108e+09                   -11                     0  \n",
       "1              1.518269e+09                    -2                     0  \n",
       "2              1.518871e+09                    -8                     0  \n",
       "3              1.505416e+09                    -7                    -1  \n",
       "4              1.508801e+09                    -6                    -4  \n",
       "\n",
       "[5 rows x 36 columns]"
      ]
     },
     "execution_count": 36,
     "metadata": {},
     "output_type": "execute_result"
    }
   ],
   "source": [
    "unauth = aggregate_transactions(_unauth)\n",
    "unauth.columns = ['unauth_' + c if c != 'card_id' else c for c in unauth.columns]\n",
    "unauth[:5]"
   ]
  },
  {
   "cell_type": "code",
   "execution_count": 37,
   "metadata": {
    "_uuid": "8de5b5e1a8c113cc8db49cbe1fcc50a96ff6e296"
   },
   "outputs": [
    {
     "data": {
      "text/html": [
       "<div>\n",
       "<style scoped>\n",
       "    .dataframe tbody tr th:only-of-type {\n",
       "        vertical-align: middle;\n",
       "    }\n",
       "\n",
       "    .dataframe tbody tr th {\n",
       "        vertical-align: top;\n",
       "    }\n",
       "\n",
       "    .dataframe thead th {\n",
       "        text-align: right;\n",
       "    }\n",
       "</style>\n",
       "<table border=\"1\" class=\"dataframe\">\n",
       "  <thead>\n",
       "    <tr style=\"text-align: right;\">\n",
       "      <th></th>\n",
       "      <th>card_id</th>\n",
       "      <th>auth_transactions_count</th>\n",
       "      <th>auth_category_1_sum</th>\n",
       "      <th>auth_category_1_mean</th>\n",
       "      <th>auth_category_2_1.0_mean</th>\n",
       "      <th>auth_category_2_2.0_mean</th>\n",
       "      <th>auth_category_2_3.0_mean</th>\n",
       "      <th>auth_category_2_4.0_mean</th>\n",
       "      <th>auth_category_2_5.0_mean</th>\n",
       "      <th>auth_category_3_A_mean</th>\n",
       "      <th>...</th>\n",
       "      <th>auth_installments_std</th>\n",
       "      <th>auth_purchase_month_mean</th>\n",
       "      <th>auth_purchase_month_max</th>\n",
       "      <th>auth_purchase_month_min</th>\n",
       "      <th>auth_purchase_month_std</th>\n",
       "      <th>auth_purchase_date_ptp</th>\n",
       "      <th>auth_purchase_date_min</th>\n",
       "      <th>auth_purchase_date_max</th>\n",
       "      <th>auth_month_lag_min</th>\n",
       "      <th>auth_month_lag_max</th>\n",
       "    </tr>\n",
       "  </thead>\n",
       "  <tbody>\n",
       "    <tr>\n",
       "      <th>0</th>\n",
       "      <td>C_ID_00007093c1</td>\n",
       "      <td>114</td>\n",
       "      <td>24.0</td>\n",
       "      <td>0.210526</td>\n",
       "      <td>0.000000</td>\n",
       "      <td>0.000000</td>\n",
       "      <td>0.780702</td>\n",
       "      <td>0.0</td>\n",
       "      <td>0.008772</td>\n",
       "      <td>0.0</td>\n",
       "      <td>...</td>\n",
       "      <td>0.795159</td>\n",
       "      <td>6.517544</td>\n",
       "      <td>12</td>\n",
       "      <td>1</td>\n",
       "      <td>3.371490</td>\n",
       "      <td>32627654.0</td>\n",
       "      <td>1.487081e+09</td>\n",
       "      <td>1.519708e+09</td>\n",
       "      <td>-12</td>\n",
       "      <td>0</td>\n",
       "    </tr>\n",
       "    <tr>\n",
       "      <th>1</th>\n",
       "      <td>C_ID_0001238066</td>\n",
       "      <td>120</td>\n",
       "      <td>2.0</td>\n",
       "      <td>0.016667</td>\n",
       "      <td>0.783333</td>\n",
       "      <td>0.000000</td>\n",
       "      <td>0.000000</td>\n",
       "      <td>0.0</td>\n",
       "      <td>0.150000</td>\n",
       "      <td>0.0</td>\n",
       "      <td>...</td>\n",
       "      <td>1.501050</td>\n",
       "      <td>7.275000</td>\n",
       "      <td>12</td>\n",
       "      <td>1</td>\n",
       "      <td>4.895483</td>\n",
       "      <td>13110825.0</td>\n",
       "      <td>1.506638e+09</td>\n",
       "      <td>1.519748e+09</td>\n",
       "      <td>-5</td>\n",
       "      <td>0</td>\n",
       "    </tr>\n",
       "    <tr>\n",
       "      <th>2</th>\n",
       "      <td>C_ID_0001506ef0</td>\n",
       "      <td>62</td>\n",
       "      <td>0.0</td>\n",
       "      <td>0.000000</td>\n",
       "      <td>0.032258</td>\n",
       "      <td>0.000000</td>\n",
       "      <td>0.967742</td>\n",
       "      <td>0.0</td>\n",
       "      <td>0.000000</td>\n",
       "      <td>1.0</td>\n",
       "      <td>...</td>\n",
       "      <td>0.000000</td>\n",
       "      <td>6.887097</td>\n",
       "      <td>12</td>\n",
       "      <td>1</td>\n",
       "      <td>4.538017</td>\n",
       "      <td>34460275.0</td>\n",
       "      <td>1.484411e+09</td>\n",
       "      <td>1.518871e+09</td>\n",
       "      <td>-13</td>\n",
       "      <td>0</td>\n",
       "    </tr>\n",
       "    <tr>\n",
       "      <th>3</th>\n",
       "      <td>C_ID_0001793786</td>\n",
       "      <td>189</td>\n",
       "      <td>0.0</td>\n",
       "      <td>0.000000</td>\n",
       "      <td>0.042328</td>\n",
       "      <td>0.359788</td>\n",
       "      <td>0.063492</td>\n",
       "      <td>0.0</td>\n",
       "      <td>0.000000</td>\n",
       "      <td>1.0</td>\n",
       "      <td>...</td>\n",
       "      <td>0.000000</td>\n",
       "      <td>6.698413</td>\n",
       "      <td>10</td>\n",
       "      <td>1</td>\n",
       "      <td>2.301491</td>\n",
       "      <td>24487497.0</td>\n",
       "      <td>1.484994e+09</td>\n",
       "      <td>1.509481e+09</td>\n",
       "      <td>-9</td>\n",
       "      <td>0</td>\n",
       "    </tr>\n",
       "    <tr>\n",
       "      <th>4</th>\n",
       "      <td>C_ID_000183fdda</td>\n",
       "      <td>137</td>\n",
       "      <td>4.0</td>\n",
       "      <td>0.029197</td>\n",
       "      <td>0.051095</td>\n",
       "      <td>0.007299</td>\n",
       "      <td>0.905109</td>\n",
       "      <td>0.0</td>\n",
       "      <td>0.007299</td>\n",
       "      <td>0.0</td>\n",
       "      <td>...</td>\n",
       "      <td>2.108912</td>\n",
       "      <td>6.810219</td>\n",
       "      <td>12</td>\n",
       "      <td>1</td>\n",
       "      <td>4.538289</td>\n",
       "      <td>15148616.0</td>\n",
       "      <td>1.504444e+09</td>\n",
       "      <td>1.519592e+09</td>\n",
       "      <td>-5</td>\n",
       "      <td>0</td>\n",
       "    </tr>\n",
       "  </tbody>\n",
       "</table>\n",
       "<p>5 rows × 36 columns</p>\n",
       "</div>"
      ],
      "text/plain": [
       "           card_id  auth_transactions_count  auth_category_1_sum  \\\n",
       "0  C_ID_00007093c1                      114                 24.0   \n",
       "1  C_ID_0001238066                      120                  2.0   \n",
       "2  C_ID_0001506ef0                       62                  0.0   \n",
       "3  C_ID_0001793786                      189                  0.0   \n",
       "4  C_ID_000183fdda                      137                  4.0   \n",
       "\n",
       "   auth_category_1_mean  auth_category_2_1.0_mean  auth_category_2_2.0_mean  \\\n",
       "0              0.210526                  0.000000                  0.000000   \n",
       "1              0.016667                  0.783333                  0.000000   \n",
       "2              0.000000                  0.032258                  0.000000   \n",
       "3              0.000000                  0.042328                  0.359788   \n",
       "4              0.029197                  0.051095                  0.007299   \n",
       "\n",
       "   auth_category_2_3.0_mean  auth_category_2_4.0_mean  \\\n",
       "0                  0.780702                       0.0   \n",
       "1                  0.000000                       0.0   \n",
       "2                  0.967742                       0.0   \n",
       "3                  0.063492                       0.0   \n",
       "4                  0.905109                       0.0   \n",
       "\n",
       "   auth_category_2_5.0_mean  auth_category_3_A_mean         ...          \\\n",
       "0                  0.008772                     0.0         ...           \n",
       "1                  0.150000                     0.0         ...           \n",
       "2                  0.000000                     1.0         ...           \n",
       "3                  0.000000                     1.0         ...           \n",
       "4                  0.007299                     0.0         ...           \n",
       "\n",
       "   auth_installments_std  auth_purchase_month_mean  auth_purchase_month_max  \\\n",
       "0               0.795159                  6.517544                       12   \n",
       "1               1.501050                  7.275000                       12   \n",
       "2               0.000000                  6.887097                       12   \n",
       "3               0.000000                  6.698413                       10   \n",
       "4               2.108912                  6.810219                       12   \n",
       "\n",
       "   auth_purchase_month_min  auth_purchase_month_std  auth_purchase_date_ptp  \\\n",
       "0                        1                 3.371490              32627654.0   \n",
       "1                        1                 4.895483              13110825.0   \n",
       "2                        1                 4.538017              34460275.0   \n",
       "3                        1                 2.301491              24487497.0   \n",
       "4                        1                 4.538289              15148616.0   \n",
       "\n",
       "   auth_purchase_date_min  auth_purchase_date_max  auth_month_lag_min  \\\n",
       "0            1.487081e+09            1.519708e+09                 -12   \n",
       "1            1.506638e+09            1.519748e+09                  -5   \n",
       "2            1.484411e+09            1.518871e+09                 -13   \n",
       "3            1.484994e+09            1.509481e+09                  -9   \n",
       "4            1.504444e+09            1.519592e+09                  -5   \n",
       "\n",
       "   auth_month_lag_max  \n",
       "0                   0  \n",
       "1                   0  \n",
       "2                   0  \n",
       "3                   0  \n",
       "4                   0  \n",
       "\n",
       "[5 rows x 36 columns]"
      ]
     },
     "execution_count": 37,
     "metadata": {},
     "output_type": "execute_result"
    }
   ],
   "source": [
    "auth = aggregate_transactions(_auth)\n",
    "auth.columns = ['auth_' + c if c != 'card_id' else c for c in auth.columns]\n",
    "auth[:5]"
   ]
  },
  {
   "cell_type": "code",
   "execution_count": 38,
   "metadata": {
    "_uuid": "5bb03bbf6d0eb2ca17e2520324abca00a6fe0f31"
   },
   "outputs": [
    {
     "data": {
      "text/html": [
       "<div>\n",
       "<style scoped>\n",
       "    .dataframe tbody tr th:only-of-type {\n",
       "        vertical-align: middle;\n",
       "    }\n",
       "\n",
       "    .dataframe tbody tr th {\n",
       "        vertical-align: top;\n",
       "    }\n",
       "\n",
       "    .dataframe thead th {\n",
       "        text-align: right;\n",
       "    }\n",
       "</style>\n",
       "<table border=\"1\" class=\"dataframe\">\n",
       "  <thead>\n",
       "    <tr style=\"text-align: right;\">\n",
       "      <th></th>\n",
       "      <th>card_id</th>\n",
       "      <th>new_transactions_count</th>\n",
       "      <th>new_category_1_sum</th>\n",
       "      <th>new_category_1_mean</th>\n",
       "      <th>new_category_2_1.0_mean</th>\n",
       "      <th>new_category_2_2.0_mean</th>\n",
       "      <th>new_category_2_3.0_mean</th>\n",
       "      <th>new_category_2_4.0_mean</th>\n",
       "      <th>new_category_2_5.0_mean</th>\n",
       "      <th>new_category_3_A_mean</th>\n",
       "      <th>...</th>\n",
       "      <th>new_installments_std</th>\n",
       "      <th>new_purchase_month_mean</th>\n",
       "      <th>new_purchase_month_max</th>\n",
       "      <th>new_purchase_month_min</th>\n",
       "      <th>new_purchase_month_std</th>\n",
       "      <th>new_purchase_date_ptp</th>\n",
       "      <th>new_purchase_date_min</th>\n",
       "      <th>new_purchase_date_max</th>\n",
       "      <th>new_month_lag_min</th>\n",
       "      <th>new_month_lag_max</th>\n",
       "    </tr>\n",
       "  </thead>\n",
       "  <tbody>\n",
       "    <tr>\n",
       "      <th>0</th>\n",
       "      <td>C_ID_00007093c1</td>\n",
       "      <td>2</td>\n",
       "      <td>0</td>\n",
       "      <td>0.000000</td>\n",
       "      <td>0.500000</td>\n",
       "      <td>0.000000</td>\n",
       "      <td>0.50000</td>\n",
       "      <td>0.0</td>\n",
       "      <td>0.000000</td>\n",
       "      <td>0.0</td>\n",
       "      <td>...</td>\n",
       "      <td>0.000000</td>\n",
       "      <td>4.000000</td>\n",
       "      <td>4</td>\n",
       "      <td>4</td>\n",
       "      <td>0.000000</td>\n",
       "      <td>537024.0</td>\n",
       "      <td>1.522754e+09</td>\n",
       "      <td>1.523291e+09</td>\n",
       "      <td>2</td>\n",
       "      <td>2</td>\n",
       "    </tr>\n",
       "    <tr>\n",
       "      <th>1</th>\n",
       "      <td>C_ID_0001238066</td>\n",
       "      <td>26</td>\n",
       "      <td>2</td>\n",
       "      <td>0.076923</td>\n",
       "      <td>0.769231</td>\n",
       "      <td>0.000000</td>\n",
       "      <td>0.00000</td>\n",
       "      <td>0.0</td>\n",
       "      <td>0.115385</td>\n",
       "      <td>0.0</td>\n",
       "      <td>...</td>\n",
       "      <td>2.079941</td>\n",
       "      <td>3.346154</td>\n",
       "      <td>4</td>\n",
       "      <td>3</td>\n",
       "      <td>0.485165</td>\n",
       "      <td>5195343.0</td>\n",
       "      <td>1.519923e+09</td>\n",
       "      <td>1.525118e+09</td>\n",
       "      <td>1</td>\n",
       "      <td>2</td>\n",
       "    </tr>\n",
       "    <tr>\n",
       "      <th>2</th>\n",
       "      <td>C_ID_0001506ef0</td>\n",
       "      <td>2</td>\n",
       "      <td>0</td>\n",
       "      <td>0.000000</td>\n",
       "      <td>0.000000</td>\n",
       "      <td>0.000000</td>\n",
       "      <td>1.00000</td>\n",
       "      <td>0.0</td>\n",
       "      <td>0.000000</td>\n",
       "      <td>1.0</td>\n",
       "      <td>...</td>\n",
       "      <td>0.000000</td>\n",
       "      <td>3.000000</td>\n",
       "      <td>3</td>\n",
       "      <td>3</td>\n",
       "      <td>0.000000</td>\n",
       "      <td>471152.0</td>\n",
       "      <td>1.521239e+09</td>\n",
       "      <td>1.521710e+09</td>\n",
       "      <td>1</td>\n",
       "      <td>1</td>\n",
       "    </tr>\n",
       "    <tr>\n",
       "      <th>3</th>\n",
       "      <td>C_ID_0001793786</td>\n",
       "      <td>31</td>\n",
       "      <td>0</td>\n",
       "      <td>0.000000</td>\n",
       "      <td>0.483871</td>\n",
       "      <td>0.258065</td>\n",
       "      <td>0.16129</td>\n",
       "      <td>0.0</td>\n",
       "      <td>0.032258</td>\n",
       "      <td>1.0</td>\n",
       "      <td>...</td>\n",
       "      <td>0.000000</td>\n",
       "      <td>11.322581</td>\n",
       "      <td>12</td>\n",
       "      <td>11</td>\n",
       "      <td>0.475191</td>\n",
       "      <td>3981096.0</td>\n",
       "      <td>1.510761e+09</td>\n",
       "      <td>1.514742e+09</td>\n",
       "      <td>1</td>\n",
       "      <td>2</td>\n",
       "    </tr>\n",
       "    <tr>\n",
       "      <th>4</th>\n",
       "      <td>C_ID_000183fdda</td>\n",
       "      <td>11</td>\n",
       "      <td>0</td>\n",
       "      <td>0.000000</td>\n",
       "      <td>0.000000</td>\n",
       "      <td>0.000000</td>\n",
       "      <td>1.00000</td>\n",
       "      <td>0.0</td>\n",
       "      <td>0.000000</td>\n",
       "      <td>0.0</td>\n",
       "      <td>...</td>\n",
       "      <td>1.293340</td>\n",
       "      <td>3.272727</td>\n",
       "      <td>4</td>\n",
       "      <td>3</td>\n",
       "      <td>0.467099</td>\n",
       "      <td>5106807.0</td>\n",
       "      <td>1.519994e+09</td>\n",
       "      <td>1.525100e+09</td>\n",
       "      <td>1</td>\n",
       "      <td>2</td>\n",
       "    </tr>\n",
       "  </tbody>\n",
       "</table>\n",
       "<p>5 rows × 36 columns</p>\n",
       "</div>"
      ],
      "text/plain": [
       "           card_id  new_transactions_count  new_category_1_sum  \\\n",
       "0  C_ID_00007093c1                       2                   0   \n",
       "1  C_ID_0001238066                      26                   2   \n",
       "2  C_ID_0001506ef0                       2                   0   \n",
       "3  C_ID_0001793786                      31                   0   \n",
       "4  C_ID_000183fdda                      11                   0   \n",
       "\n",
       "   new_category_1_mean  new_category_2_1.0_mean  new_category_2_2.0_mean  \\\n",
       "0             0.000000                 0.500000                 0.000000   \n",
       "1             0.076923                 0.769231                 0.000000   \n",
       "2             0.000000                 0.000000                 0.000000   \n",
       "3             0.000000                 0.483871                 0.258065   \n",
       "4             0.000000                 0.000000                 0.000000   \n",
       "\n",
       "   new_category_2_3.0_mean  new_category_2_4.0_mean  new_category_2_5.0_mean  \\\n",
       "0                  0.50000                      0.0                 0.000000   \n",
       "1                  0.00000                      0.0                 0.115385   \n",
       "2                  1.00000                      0.0                 0.000000   \n",
       "3                  0.16129                      0.0                 0.032258   \n",
       "4                  1.00000                      0.0                 0.000000   \n",
       "\n",
       "   new_category_3_A_mean        ...          new_installments_std  \\\n",
       "0                    0.0        ...                      0.000000   \n",
       "1                    0.0        ...                      2.079941   \n",
       "2                    1.0        ...                      0.000000   \n",
       "3                    1.0        ...                      0.000000   \n",
       "4                    0.0        ...                      1.293340   \n",
       "\n",
       "   new_purchase_month_mean  new_purchase_month_max  new_purchase_month_min  \\\n",
       "0                 4.000000                       4                       4   \n",
       "1                 3.346154                       4                       3   \n",
       "2                 3.000000                       3                       3   \n",
       "3                11.322581                      12                      11   \n",
       "4                 3.272727                       4                       3   \n",
       "\n",
       "   new_purchase_month_std  new_purchase_date_ptp  new_purchase_date_min  \\\n",
       "0                0.000000               537024.0           1.522754e+09   \n",
       "1                0.485165              5195343.0           1.519923e+09   \n",
       "2                0.000000               471152.0           1.521239e+09   \n",
       "3                0.475191              3981096.0           1.510761e+09   \n",
       "4                0.467099              5106807.0           1.519994e+09   \n",
       "\n",
       "   new_purchase_date_max  new_month_lag_min  new_month_lag_max  \n",
       "0           1.523291e+09                  2                  2  \n",
       "1           1.525118e+09                  1                  2  \n",
       "2           1.521710e+09                  1                  1  \n",
       "3           1.514742e+09                  1                  2  \n",
       "4           1.525100e+09                  1                  2  \n",
       "\n",
       "[5 rows x 36 columns]"
      ]
     },
     "execution_count": 38,
     "metadata": {},
     "output_type": "execute_result"
    }
   ],
   "source": [
    "new = aggregate_transactions(_new)\n",
    "new.columns = ['new_' + c if c != 'card_id' else c for c in new.columns]\n",
    "new[:5]"
   ]
  },
  {
   "cell_type": "code",
   "execution_count": 39,
   "metadata": {
    "_uuid": "cb92205c33911133947d4ff192b8e8d40e3732bd"
   },
   "outputs": [],
   "source": [
    "def aggregate_per_month(history):\n",
    "    grouped = history.groupby(['card_id', 'month_lag'])\n",
    "\n",
    "    agg_func = {\n",
    "            'purchase_amount': ['count', 'sum', 'mean', 'min', 'max', 'std'],\n",
    "            'installments': ['count', 'sum', 'mean', 'min', 'max', 'std'],\n",
    "            }\n",
    "\n",
    "    intermediate_group = grouped.agg(agg_func)\n",
    "    intermediate_group.columns = ['_'.join(col).strip() for col in intermediate_group.columns.values]\n",
    "    intermediate_group.reset_index(inplace=True)\n",
    "\n",
    "    final_group = intermediate_group.groupby('card_id').agg(['mean', 'std'])\n",
    "    final_group.columns = ['_'.join(col).strip() for col in final_group.columns.values]\n",
    "    final_group.reset_index(inplace=True)\n",
    "    \n",
    "    return final_group"
   ]
  },
  {
   "cell_type": "code",
   "execution_count": 40,
   "metadata": {
    "_uuid": "cb92205c33911133947d4ff192b8e8d40e3732bd"
   },
   "outputs": [
    {
     "data": {
      "text/html": [
       "<div>\n",
       "<style scoped>\n",
       "    .dataframe tbody tr th:only-of-type {\n",
       "        vertical-align: middle;\n",
       "    }\n",
       "\n",
       "    .dataframe tbody tr th {\n",
       "        vertical-align: top;\n",
       "    }\n",
       "\n",
       "    .dataframe thead th {\n",
       "        text-align: right;\n",
       "    }\n",
       "</style>\n",
       "<table border=\"1\" class=\"dataframe\">\n",
       "  <thead>\n",
       "    <tr style=\"text-align: right;\">\n",
       "      <th></th>\n",
       "      <th>card_id</th>\n",
       "      <th>month_lag_mean</th>\n",
       "      <th>month_lag_std</th>\n",
       "      <th>purchase_amount_count_mean</th>\n",
       "      <th>purchase_amount_count_std</th>\n",
       "      <th>purchase_amount_sum_mean</th>\n",
       "      <th>purchase_amount_sum_std</th>\n",
       "      <th>purchase_amount_mean_mean</th>\n",
       "      <th>purchase_amount_mean_std</th>\n",
       "      <th>purchase_amount_min_mean</th>\n",
       "      <th>...</th>\n",
       "      <th>installments_sum_mean</th>\n",
       "      <th>installments_sum_std</th>\n",
       "      <th>installments_mean_mean</th>\n",
       "      <th>installments_mean_std</th>\n",
       "      <th>installments_min_mean</th>\n",
       "      <th>installments_min_std</th>\n",
       "      <th>installments_max_mean</th>\n",
       "      <th>installments_max_std</th>\n",
       "      <th>installments_std_mean</th>\n",
       "      <th>installments_std_std</th>\n",
       "    </tr>\n",
       "  </thead>\n",
       "  <tbody>\n",
       "    <tr>\n",
       "      <th>0</th>\n",
       "      <td>C_ID_00007093c1</td>\n",
       "      <td>-5.500000</td>\n",
       "      <td>3.605551</td>\n",
       "      <td>2.916667</td>\n",
       "      <td>1.621354</td>\n",
       "      <td>-1.200164</td>\n",
       "      <td>0.999049</td>\n",
       "      <td>-0.431906</td>\n",
       "      <td>0.260478</td>\n",
       "      <td>-0.613764</td>\n",
       "      <td>...</td>\n",
       "      <td>3.750000</td>\n",
       "      <td>3.107908</td>\n",
       "      <td>1.176389</td>\n",
       "      <td>0.326634</td>\n",
       "      <td>1.000000</td>\n",
       "      <td>0.000000</td>\n",
       "      <td>1.500000</td>\n",
       "      <td>0.797724</td>\n",
       "      <td>0.355262</td>\n",
       "      <td>0.480551</td>\n",
       "    </tr>\n",
       "    <tr>\n",
       "      <th>1</th>\n",
       "      <td>C_ID_0001238066</td>\n",
       "      <td>-1.000000</td>\n",
       "      <td>1.414214</td>\n",
       "      <td>1.500000</td>\n",
       "      <td>0.707107</td>\n",
       "      <td>-0.894964</td>\n",
       "      <td>0.421890</td>\n",
       "      <td>-0.596643</td>\n",
       "      <td>0.000000</td>\n",
       "      <td>-0.596643</td>\n",
       "      <td>...</td>\n",
       "      <td>1.500000</td>\n",
       "      <td>0.707107</td>\n",
       "      <td>1.000000</td>\n",
       "      <td>0.000000</td>\n",
       "      <td>1.000000</td>\n",
       "      <td>0.000000</td>\n",
       "      <td>1.000000</td>\n",
       "      <td>0.000000</td>\n",
       "      <td>0.000000</td>\n",
       "      <td>NaN</td>\n",
       "    </tr>\n",
       "    <tr>\n",
       "      <th>2</th>\n",
       "      <td>C_ID_0001506ef0</td>\n",
       "      <td>-3.333333</td>\n",
       "      <td>4.163332</td>\n",
       "      <td>1.333333</td>\n",
       "      <td>0.577350</td>\n",
       "      <td>-0.968594</td>\n",
       "      <td>0.395645</td>\n",
       "      <td>-0.731020</td>\n",
       "      <td>0.015849</td>\n",
       "      <td>-0.732397</td>\n",
       "      <td>...</td>\n",
       "      <td>0.333333</td>\n",
       "      <td>0.577350</td>\n",
       "      <td>0.166667</td>\n",
       "      <td>0.288675</td>\n",
       "      <td>0.000000</td>\n",
       "      <td>0.000000</td>\n",
       "      <td>0.333333</td>\n",
       "      <td>0.577350</td>\n",
       "      <td>0.707107</td>\n",
       "      <td>NaN</td>\n",
       "    </tr>\n",
       "    <tr>\n",
       "      <th>3</th>\n",
       "      <td>C_ID_0001793786</td>\n",
       "      <td>-3.833333</td>\n",
       "      <td>2.316607</td>\n",
       "      <td>4.500000</td>\n",
       "      <td>1.974842</td>\n",
       "      <td>-1.970890</td>\n",
       "      <td>2.037261</td>\n",
       "      <td>-0.423501</td>\n",
       "      <td>0.392159</td>\n",
       "      <td>-0.676499</td>\n",
       "      <td>...</td>\n",
       "      <td>0.833333</td>\n",
       "      <td>0.983192</td>\n",
       "      <td>0.291667</td>\n",
       "      <td>0.400520</td>\n",
       "      <td>0.166667</td>\n",
       "      <td>0.408248</td>\n",
       "      <td>0.500000</td>\n",
       "      <td>0.547723</td>\n",
       "      <td>0.179558</td>\n",
       "      <td>0.279244</td>\n",
       "    </tr>\n",
       "    <tr>\n",
       "      <th>4</th>\n",
       "      <td>C_ID_000183fdda</td>\n",
       "      <td>-5.000000</td>\n",
       "      <td>1.414214</td>\n",
       "      <td>3.500000</td>\n",
       "      <td>3.535534</td>\n",
       "      <td>-0.470690</td>\n",
       "      <td>0.344856</td>\n",
       "      <td>-0.376174</td>\n",
       "      <td>0.478523</td>\n",
       "      <td>-0.579708</td>\n",
       "      <td>...</td>\n",
       "      <td>9.500000</td>\n",
       "      <td>12.020815</td>\n",
       "      <td>2.000000</td>\n",
       "      <td>1.414214</td>\n",
       "      <td>1.000000</td>\n",
       "      <td>0.000000</td>\n",
       "      <td>3.500000</td>\n",
       "      <td>3.535534</td>\n",
       "      <td>2.366432</td>\n",
       "      <td>NaN</td>\n",
       "    </tr>\n",
       "    <tr>\n",
       "      <th>5</th>\n",
       "      <td>C_ID_00024e244b</td>\n",
       "      <td>-5.000000</td>\n",
       "      <td>4.000000</td>\n",
       "      <td>2.428571</td>\n",
       "      <td>1.397276</td>\n",
       "      <td>-1.186659</td>\n",
       "      <td>1.210810</td>\n",
       "      <td>-0.558085</td>\n",
       "      <td>0.326273</td>\n",
       "      <td>-0.607249</td>\n",
       "      <td>...</td>\n",
       "      <td>0.714286</td>\n",
       "      <td>1.112697</td>\n",
       "      <td>0.297619</td>\n",
       "      <td>0.419041</td>\n",
       "      <td>0.142857</td>\n",
       "      <td>0.377964</td>\n",
       "      <td>0.428571</td>\n",
       "      <td>0.534522</td>\n",
       "      <td>0.269338</td>\n",
       "      <td>0.312603</td>\n",
       "    </tr>\n",
       "    <tr>\n",
       "      <th>6</th>\n",
       "      <td>C_ID_0002709b5a</td>\n",
       "      <td>-7.250000</td>\n",
       "      <td>5.057997</td>\n",
       "      <td>1.500000</td>\n",
       "      <td>1.000000</td>\n",
       "      <td>-0.929675</td>\n",
       "      <td>0.699316</td>\n",
       "      <td>-0.604163</td>\n",
       "      <td>0.156637</td>\n",
       "      <td>-0.616865</td>\n",
       "      <td>...</td>\n",
       "      <td>2.750000</td>\n",
       "      <td>2.362908</td>\n",
       "      <td>2.250000</td>\n",
       "      <td>2.500000</td>\n",
       "      <td>2.250000</td>\n",
       "      <td>2.500000</td>\n",
       "      <td>2.250000</td>\n",
       "      <td>2.500000</td>\n",
       "      <td>0.000000</td>\n",
       "      <td>NaN</td>\n",
       "    </tr>\n",
       "    <tr>\n",
       "      <th>7</th>\n",
       "      <td>C_ID_00027503e2</td>\n",
       "      <td>-4.000000</td>\n",
       "      <td>2.915476</td>\n",
       "      <td>3.600000</td>\n",
       "      <td>1.516575</td>\n",
       "      <td>-2.669652</td>\n",
       "      <td>1.128393</td>\n",
       "      <td>-0.741249</td>\n",
       "      <td>0.002457</td>\n",
       "      <td>-0.742989</td>\n",
       "      <td>...</td>\n",
       "      <td>0.000000</td>\n",
       "      <td>0.000000</td>\n",
       "      <td>0.000000</td>\n",
       "      <td>0.000000</td>\n",
       "      <td>0.000000</td>\n",
       "      <td>0.000000</td>\n",
       "      <td>0.000000</td>\n",
       "      <td>0.000000</td>\n",
       "      <td>0.000000</td>\n",
       "      <td>0.000000</td>\n",
       "    </tr>\n",
       "    <tr>\n",
       "      <th>8</th>\n",
       "      <td>C_ID_000298032a</td>\n",
       "      <td>-6.500000</td>\n",
       "      <td>3.535534</td>\n",
       "      <td>1.000000</td>\n",
       "      <td>0.000000</td>\n",
       "      <td>-0.617958</td>\n",
       "      <td>0.093896</td>\n",
       "      <td>-0.617958</td>\n",
       "      <td>0.093896</td>\n",
       "      <td>-0.617958</td>\n",
       "      <td>...</td>\n",
       "      <td>0.000000</td>\n",
       "      <td>0.000000</td>\n",
       "      <td>0.000000</td>\n",
       "      <td>0.000000</td>\n",
       "      <td>0.000000</td>\n",
       "      <td>0.000000</td>\n",
       "      <td>0.000000</td>\n",
       "      <td>0.000000</td>\n",
       "      <td>NaN</td>\n",
       "      <td>NaN</td>\n",
       "    </tr>\n",
       "    <tr>\n",
       "      <th>9</th>\n",
       "      <td>C_ID_0002ba3c2e</td>\n",
       "      <td>-3.666667</td>\n",
       "      <td>3.559026</td>\n",
       "      <td>2.500000</td>\n",
       "      <td>1.516575</td>\n",
       "      <td>-1.547448</td>\n",
       "      <td>0.910264</td>\n",
       "      <td>-0.641704</td>\n",
       "      <td>0.080430</td>\n",
       "      <td>-0.655965</td>\n",
       "      <td>...</td>\n",
       "      <td>0.000000</td>\n",
       "      <td>0.000000</td>\n",
       "      <td>0.000000</td>\n",
       "      <td>0.000000</td>\n",
       "      <td>0.000000</td>\n",
       "      <td>0.000000</td>\n",
       "      <td>0.000000</td>\n",
       "      <td>0.000000</td>\n",
       "      <td>0.000000</td>\n",
       "      <td>0.000000</td>\n",
       "    </tr>\n",
       "  </tbody>\n",
       "</table>\n",
       "<p>10 rows × 27 columns</p>\n",
       "</div>"
      ],
      "text/plain": [
       "           card_id  month_lag_mean  month_lag_std  purchase_amount_count_mean  \\\n",
       "0  C_ID_00007093c1       -5.500000       3.605551                    2.916667   \n",
       "1  C_ID_0001238066       -1.000000       1.414214                    1.500000   \n",
       "2  C_ID_0001506ef0       -3.333333       4.163332                    1.333333   \n",
       "3  C_ID_0001793786       -3.833333       2.316607                    4.500000   \n",
       "4  C_ID_000183fdda       -5.000000       1.414214                    3.500000   \n",
       "5  C_ID_00024e244b       -5.000000       4.000000                    2.428571   \n",
       "6  C_ID_0002709b5a       -7.250000       5.057997                    1.500000   \n",
       "7  C_ID_00027503e2       -4.000000       2.915476                    3.600000   \n",
       "8  C_ID_000298032a       -6.500000       3.535534                    1.000000   \n",
       "9  C_ID_0002ba3c2e       -3.666667       3.559026                    2.500000   \n",
       "\n",
       "   purchase_amount_count_std  purchase_amount_sum_mean  \\\n",
       "0                   1.621354                 -1.200164   \n",
       "1                   0.707107                 -0.894964   \n",
       "2                   0.577350                 -0.968594   \n",
       "3                   1.974842                 -1.970890   \n",
       "4                   3.535534                 -0.470690   \n",
       "5                   1.397276                 -1.186659   \n",
       "6                   1.000000                 -0.929675   \n",
       "7                   1.516575                 -2.669652   \n",
       "8                   0.000000                 -0.617958   \n",
       "9                   1.516575                 -1.547448   \n",
       "\n",
       "   purchase_amount_sum_std  purchase_amount_mean_mean  \\\n",
       "0                 0.999049                  -0.431906   \n",
       "1                 0.421890                  -0.596643   \n",
       "2                 0.395645                  -0.731020   \n",
       "3                 2.037261                  -0.423501   \n",
       "4                 0.344856                  -0.376174   \n",
       "5                 1.210810                  -0.558085   \n",
       "6                 0.699316                  -0.604163   \n",
       "7                 1.128393                  -0.741249   \n",
       "8                 0.093896                  -0.617958   \n",
       "9                 0.910264                  -0.641704   \n",
       "\n",
       "   purchase_amount_mean_std  purchase_amount_min_mean          ...           \\\n",
       "0                  0.260478                 -0.613764          ...            \n",
       "1                  0.000000                 -0.596643          ...            \n",
       "2                  0.015849                 -0.732397          ...            \n",
       "3                  0.392159                 -0.676499          ...            \n",
       "4                  0.478523                 -0.579708          ...            \n",
       "5                  0.326273                 -0.607249          ...            \n",
       "6                  0.156637                 -0.616865          ...            \n",
       "7                  0.002457                 -0.742989          ...            \n",
       "8                  0.093896                 -0.617958          ...            \n",
       "9                  0.080430                 -0.655965          ...            \n",
       "\n",
       "   installments_sum_mean  installments_sum_std  installments_mean_mean  \\\n",
       "0               3.750000              3.107908                1.176389   \n",
       "1               1.500000              0.707107                1.000000   \n",
       "2               0.333333              0.577350                0.166667   \n",
       "3               0.833333              0.983192                0.291667   \n",
       "4               9.500000             12.020815                2.000000   \n",
       "5               0.714286              1.112697                0.297619   \n",
       "6               2.750000              2.362908                2.250000   \n",
       "7               0.000000              0.000000                0.000000   \n",
       "8               0.000000              0.000000                0.000000   \n",
       "9               0.000000              0.000000                0.000000   \n",
       "\n",
       "   installments_mean_std  installments_min_mean  installments_min_std  \\\n",
       "0               0.326634               1.000000              0.000000   \n",
       "1               0.000000               1.000000              0.000000   \n",
       "2               0.288675               0.000000              0.000000   \n",
       "3               0.400520               0.166667              0.408248   \n",
       "4               1.414214               1.000000              0.000000   \n",
       "5               0.419041               0.142857              0.377964   \n",
       "6               2.500000               2.250000              2.500000   \n",
       "7               0.000000               0.000000              0.000000   \n",
       "8               0.000000               0.000000              0.000000   \n",
       "9               0.000000               0.000000              0.000000   \n",
       "\n",
       "   installments_max_mean  installments_max_std  installments_std_mean  \\\n",
       "0               1.500000              0.797724               0.355262   \n",
       "1               1.000000              0.000000               0.000000   \n",
       "2               0.333333              0.577350               0.707107   \n",
       "3               0.500000              0.547723               0.179558   \n",
       "4               3.500000              3.535534               2.366432   \n",
       "5               0.428571              0.534522               0.269338   \n",
       "6               2.250000              2.500000               0.000000   \n",
       "7               0.000000              0.000000               0.000000   \n",
       "8               0.000000              0.000000                    NaN   \n",
       "9               0.000000              0.000000               0.000000   \n",
       "\n",
       "   installments_std_std  \n",
       "0              0.480551  \n",
       "1                   NaN  \n",
       "2                   NaN  \n",
       "3              0.279244  \n",
       "4                   NaN  \n",
       "5              0.312603  \n",
       "6                   NaN  \n",
       "7              0.000000  \n",
       "8                   NaN  \n",
       "9              0.000000  \n",
       "\n",
       "[10 rows x 27 columns]"
      ]
     },
     "execution_count": 40,
     "metadata": {},
     "output_type": "execute_result"
    }
   ],
   "source": [
    "final_group =  aggregate_per_month(_unauth)\n",
    "final_group[:10]"
   ]
  },
  {
   "cell_type": "code",
   "execution_count": 42,
   "metadata": {},
   "outputs": [],
   "source": [
    "joined = join_df(train, unauth, 'card_id')\n",
    "joined_test = join_df(test, unauth, 'card_id')"
   ]
  },
  {
   "cell_type": "code",
   "execution_count": 43,
   "metadata": {},
   "outputs": [],
   "source": [
    "joined = join_df(joined, auth, 'card_id')\n",
    "joined_test = join_df(joined_test, auth, 'card_id')"
   ]
  },
  {
   "cell_type": "code",
   "execution_count": 44,
   "metadata": {},
   "outputs": [],
   "source": [
    "joined = join_df(joined, new, 'card_id')\n",
    "joined_test = join_df(joined_test, new, 'card_id')"
   ]
  },
  {
   "cell_type": "code",
   "execution_count": 45,
   "metadata": {},
   "outputs": [],
   "source": [
    "joined = join_df(joined, final_group, 'card_id')\n",
    "joined_test = join_df(joined_test, final_group, 'card_id')"
   ]
  },
  {
   "cell_type": "code",
   "execution_count": 46,
   "metadata": {},
   "outputs": [],
   "source": [
    "joined = join_df(joined, auth_mean, 'card_id')\n",
    "joined_test = join_df(joined_test, auth_mean, 'card_id')"
   ]
  },
  {
   "cell_type": "code",
   "execution_count": 47,
   "metadata": {},
   "outputs": [],
   "source": [
    "joined.to_pickle(PATH/'joined')\n",
    "joined_test.to_pickle(PATH/'joined_test')"
   ]
  },
  {
   "cell_type": "code",
   "execution_count": null,
   "metadata": {
    "_uuid": "9cf73722d0a9a6bcdae516feae7d3fa2ce81f611"
   },
   "outputs": [],
   "source": [
    "features = [c for c in joined.columns if c not in ['card_id', 'first_active_month', 'outliers']]\n",
    "categorical_feats = [c for c in features if 'feature_' in c]"
   ]
  },
  {
   "cell_type": "code",
   "execution_count": null,
   "metadata": {
    "_uuid": "411bf5f213870ebc8de3cb05d41d91bbd96e39f5"
   },
   "outputs": [],
   "source": [
    "print(train.shape)\n",
    "print(test.shape)"
   ]
  },
  {
   "cell_type": "markdown",
   "metadata": {
    "_uuid": "09a3eb12540e359250a85c570e7aedf6b87a648b"
   },
   "source": [
    "# Modeling\n",
    "\n",
    "Now let's do some of what everyone is here for - modeling. We'll start with a simple Ridge regression model. "
   ]
  },
  {
   "cell_type": "code",
   "execution_count": null,
   "metadata": {
    "_uuid": "97579d5a922792beaf9f60e63d7af5e17db3abb6"
   },
   "outputs": [],
   "source": [
    "'''oof_ridge = np.zeros(train.shape[0])\n",
    "predictions_ridge = np.zeros(test.shape[0])\n",
    "\n",
    "tst_data = test.copy()\n",
    "tst_data.fillna((tst_data.mean()), inplace=True)\n",
    "\n",
    "tst_data = tst_data[features].values\n",
    "\n",
    "folds = StratifiedKFold(n_splits=5, shuffle=True, random_state=15)\n",
    "\n",
    "for fold_, (trn_idx, val_idx) in enumerate(folds.split(train,train['outliers'].values)):\n",
    "    print(\"fold n°{}\".format(fold_+1))\n",
    "    trn_data, trn_y = train.iloc[trn_idx][features], target.iloc[trn_idx].values\n",
    "    val_data, val_y = train.iloc[val_idx][features], target.iloc[val_idx].values\n",
    "    \n",
    "    trn_data.fillna((trn_data.mean()), inplace=True)\n",
    "    val_data.fillna((val_data.mean()), inplace=True)\n",
    "    \n",
    "    trn_data = trn_data.values\n",
    "    val_data = val_data.values\n",
    "\n",
    "    clf = Ridge(alpha=100)\n",
    "    clf.fit(trn_data, trn_y)\n",
    "    \n",
    "    oof_ridge[val_idx] = clf.predict(val_data)\n",
    "    predictions_ridge += clf.predict(tst_data) / folds.n_splits\n",
    "\n",
    "np.save('oof_ridge', oof_ridge)\n",
    "np.save('predictions_ridge', predictions_ridge)\n",
    "np.sqrt(mean_squared_error(target.values, oof_ridge))'''"
   ]
  },
  {
   "cell_type": "code",
   "execution_count": null,
   "metadata": {
    "_uuid": "1efccf5394de86a9d09d23d26e0b629b5c46d265"
   },
   "outputs": [],
   "source": [
    "'''del tst_data\n",
    "gc.collect()'''"
   ]
  },
  {
   "cell_type": "markdown",
   "metadata": {
    "_uuid": "b8f360fbd758914d4f6061331fbc336c95684b41"
   },
   "source": [
    "3.78 CV is not bad, but it's far from what the best models can do in this competition. Let's take a look at a few non-linear models. We'll start with LightGBM."
   ]
  },
  {
   "cell_type": "code",
   "execution_count": null,
   "metadata": {
    "_uuid": "98b9d3e3c675e410c3681fc3750d45f80544492c"
   },
   "outputs": [],
   "source": [
    "'''param = {'num_leaves': 120,\n",
    "         'min_data_in_leaf': 30, \n",
    "         'objective':'regression',\n",
    "         'max_depth': -1,\n",
    "         'learning_rate': 0.005,\n",
    "         \"min_child_samples\": 30,\n",
    "         \"boosting\": \"gbdt\",\n",
    "         \"feature_fraction\": 0.9,\n",
    "         \"bagging_freq\": 1,\n",
    "         \"bagging_fraction\": 0.9 ,\n",
    "         \"bagging_seed\": 11,\n",
    "         \"metric\": 'rmse',\n",
    "         \"lambda_l1\": 0.1,\n",
    "         \"verbosity\": -1}\n",
    "\n",
    "oof_lgb = np.zeros(len(train))\n",
    "predictions_lgb = np.zeros(len(test))\n",
    "\n",
    "folds = StratifiedKFold(n_splits=5, shuffle=True, random_state=15)\n",
    "\n",
    "for fold_, (trn_idx, val_idx) in enumerate(folds.split(train,train['outliers'].values)):    \n",
    "    print('-')\n",
    "    print(\"Fold {}\".format(fold_ + 1))\n",
    "    trn_data = lgb.Dataset(train.iloc[trn_idx][features], label=target.iloc[trn_idx])\n",
    "    val_data = lgb.Dataset(train.iloc[val_idx][features], label=target.iloc[val_idx])\n",
    "\n",
    "    num_round = 10000\n",
    "    clf = lgb.train(param, trn_data, num_round, valid_sets = [trn_data, val_data], verbose_eval=100, early_stopping_rounds=200)\n",
    "    oof_lgb[val_idx] = clf.predict(train.iloc[val_idx][features], num_iteration=clf.best_iteration)\n",
    "    predictions_lgb += clf.predict(test[features], num_iteration=clf.best_iteration) / folds.n_splits\n",
    "    \n",
    "np.save('oof_lgb', oof_lgb)\n",
    "np.save('predictions_lgb', predictions_lgb)\n",
    "np.sqrt(mean_squared_error(target.values, oof_lgb))'''"
   ]
  },
  {
   "cell_type": "markdown",
   "metadata": {
    "_uuid": "65147cbc994a4fc474eac2b73f4db55756ab68b5"
   },
   "source": [
    "Now some XGBoost:"
   ]
  },
  {
   "cell_type": "code",
   "execution_count": null,
   "metadata": {
    "_uuid": "252970e8696dcb0dc1193fb222f3d6173b30d4af"
   },
   "outputs": [],
   "source": [
    "'''xgb_params = {'eta': 0.005, 'max_depth': 10, 'subsample': 0.8, 'colsample_bytree': 0.8, \n",
    "          'objective': 'reg:linear', 'eval_metric': 'rmse', 'silent': True}\n",
    "\n",
    "oof_xgb = np.zeros(len(train))\n",
    "predictions_xgb = np.zeros(len(test))\n",
    "\n",
    "folds = StratifiedKFold(n_splits=5, shuffle=True, random_state=15)\n",
    "\n",
    "for fold_, (trn_idx, val_idx) in enumerate(folds.split(train,train['outliers'].values)):\n",
    "    print('-')\n",
    "    print(\"Fold {}\".format(fold_ + 1))\n",
    "    trn_data = xgb.DMatrix(data=train.iloc[trn_idx][features], label=target.iloc[trn_idx])\n",
    "    val_data = xgb.DMatrix(data=train.iloc[val_idx][features], label=target.iloc[val_idx])\n",
    "    watchlist = [(trn_data, 'train'), (val_data, 'valid')]\n",
    "    print(\"xgb \" + str(fold_) + \"-\" * 50)\n",
    "    num_round = 10000\n",
    "    xgb_model = xgb.train(xgb_params, trn_data, num_round, watchlist, early_stopping_rounds=50, verbose_eval=1000)\n",
    "    oof_xgb[val_idx] = xgb_model.predict(xgb.DMatrix(train.iloc[val_idx][features]), ntree_limit=xgb_model.best_ntree_limit+50)\n",
    "\n",
    "    predictions_xgb += xgb_model.predict(xgb.DMatrix(test[features]), ntree_limit=xgb_model.best_ntree_limit+50) / folds.n_splits\n",
    "    \n",
    "np.save('oof_xgb', oof_xgb)\n",
    "np.save('predictions_xgb', predictions_xgb)\n",
    "np.sqrt(mean_squared_error(target.values, oof_xgb))'''"
   ]
  },
  {
   "cell_type": "markdown",
   "metadata": {
    "_uuid": "35c03107285a38e0a6e922981955c9561c7e3730"
   },
   "source": [
    "# Second Set of Features and Models"
   ]
  },
  {
   "cell_type": "markdown",
   "metadata": {
    "_uuid": "79bd92bb0ac1af6bc1a8bea752d4fb1d82b97453"
   },
   "source": [
    "A great thing about stackign is that you can not only use different set of models, but also create the same models with a different set of features. Here we'll use features from the wonderful [Elo world kernel](https://www.kaggle.com/fabiendaniel/elo-world) by Fabien Daniel:"
   ]
  },
  {
   "cell_type": "code",
   "execution_count": null,
   "metadata": {
    "_uuid": "b488889ef8e93f2c3fe9d0fa7b1bb00d23bd1689"
   },
   "outputs": [],
   "source": [
    "'''del train, test\n",
    "gc.collect()'''"
   ]
  },
  {
   "cell_type": "code",
   "execution_count": null,
   "metadata": {
    "_uuid": "793663bd6548291d911ae9c8c0a2a2d69ae82a28"
   },
   "outputs": [],
   "source": [
    "'''new_transactions = pd.read_csv('../input/new_merchant_transactions.csv', parse_dates=['purchase_date'])\n",
    "historical_transactions = pd.read_csv('../input/historical_transactions.csv', parse_dates=['purchase_date'])\n",
    "\n",
    "def binarize(df):\n",
    "    for col in ['authorized_flag', 'category_1']:\n",
    "        df[col] = df[col].map({'Y':1, 'N':0})\n",
    "    return df\n",
    "\n",
    "historical_transactions = binarize(historical_transactions)\n",
    "new_transactions = binarize(new_transactions)'''"
   ]
  },
  {
   "cell_type": "code",
   "execution_count": null,
   "metadata": {
    "_uuid": "19a32b2ee3e55eaecee39ce4e543c89f8920cf8d"
   },
   "outputs": [],
   "source": [
    "'''def read_data(input_file):\n",
    "    df = pd.read_csv(input_file)\n",
    "    df['first_active_month'] = pd.to_datetime(df['first_active_month'])\n",
    "    df['elapsed_time'] = (datetime.date(2018, 2, 1) - df['first_active_month'].dt.date).dt.days\n",
    "    return df\n",
    "#_________________________________________\n",
    "train = read_data('../input/train.csv')\n",
    "test = read_data('../input/test.csv')\n",
    "\n",
    "train['outliers'] = 0\n",
    "train.loc[train['target'] < -30, 'outliers'] = 1\n",
    "\n",
    "target = train['target']\n",
    "del train['target']'''"
   ]
  },
  {
   "cell_type": "code",
   "execution_count": null,
   "metadata": {
    "_uuid": "f877e97eb056fc7209a1ea5fed3a827674e4e8f0"
   },
   "outputs": [],
   "source": [
    "'''historical_transactions = pd.get_dummies(historical_transactions, columns=['category_2', 'category_3'])\n",
    "new_transactions = pd.get_dummies(new_transactions, columns=['category_2', 'category_3'])\n",
    "\n",
    "historical_transactions = reduce_mem_usage(historical_transactions)\n",
    "new_transactions = reduce_mem_usage(new_transactions)'''"
   ]
  },
  {
   "cell_type": "code",
   "execution_count": null,
   "metadata": {
    "_uuid": "0b6a5d45a038e5b0a275f43e3366e1cc80f33065"
   },
   "outputs": [],
   "source": [
    "'''historical_transactions['purchase_month'] = historical_transactions['purchase_date'].dt.month\n",
    "new_transactions['purchase_month'] = new_transactions['purchase_date'].dt.month\n",
    "\n",
    "def aggregate_transactions(history):\n",
    "    \n",
    "    history.loc[:, 'purchase_date'] = pd.DatetimeIndex(history['purchase_date']).\\\n",
    "                                      astype(np.int64) * 1e-9\n",
    "    \n",
    "    agg_func = {\n",
    "        'authorized_flag': ['sum', 'mean'],\n",
    "        'category_1': ['sum', 'mean'],\n",
    "        'category_2_1.0': ['mean'],\n",
    "        'category_2_2.0': ['mean'],\n",
    "        'category_2_3.0': ['mean'],\n",
    "        'category_2_4.0': ['mean'],\n",
    "        'category_2_5.0': ['mean'],\n",
    "        'category_3_A': ['mean'],\n",
    "        'category_3_B': ['mean'],\n",
    "        'category_3_C': ['mean'],\n",
    "        'merchant_id': ['nunique'],\n",
    "        'merchant_category_id': ['nunique'],\n",
    "        'state_id': ['nunique'],\n",
    "        'city_id': ['nunique'],\n",
    "        'subsector_id': ['nunique'],\n",
    "        'purchase_amount': ['sum', 'mean', 'max', 'min', 'std'],\n",
    "        'installments': ['sum', 'mean', 'max', 'min', 'std'],\n",
    "        'purchase_month': ['mean', 'max', 'min', 'std'],\n",
    "        'purchase_date': [np.ptp],\n",
    "        'month_lag': ['min', 'max']\n",
    "        }\n",
    "    \n",
    "    agg_history = history.groupby(['card_id']).agg(agg_func)\n",
    "    agg_history.columns = ['_'.join(col).strip() for col in agg_history.columns.values]\n",
    "    agg_history.reset_index(inplace=True)\n",
    "    \n",
    "    df = (history.groupby('card_id')\n",
    "          .size()\n",
    "          .reset_index(name='transactions_count'))\n",
    "    \n",
    "    agg_history = pd.merge(df, agg_history, on='card_id', how='left')\n",
    "    \n",
    "    return agg_history\n",
    "'''"
   ]
  },
  {
   "cell_type": "code",
   "execution_count": null,
   "metadata": {
    "_uuid": "ac351f80ecf8a0bade99831a1a065e3b863f1b4b"
   },
   "outputs": [],
   "source": [
    "'''history = aggregate_transactions(historical_transactions)\n",
    "history.columns = ['hist_' + c if c != 'card_id' else c for c in history.columns]\n",
    "history[:5]'''"
   ]
  },
  {
   "cell_type": "code",
   "execution_count": null,
   "metadata": {
    "_uuid": "000c010057df8afa6e07a59f2bf8961b897e6875"
   },
   "outputs": [],
   "source": [
    "'''new = aggregate_transactions(new_transactions)\n",
    "new.columns = ['new_' + c if c != 'card_id' else c for c in new.columns]\n",
    "new[:5]'''"
   ]
  },
  {
   "cell_type": "code",
   "execution_count": null,
   "metadata": {
    "_uuid": "842b8f1fb1d900487a17b79220760dc0805b5bb3"
   },
   "outputs": [],
   "source": [
    "'''def aggregate_per_month(history):\n",
    "    grouped = history.groupby(['card_id', 'month_lag'])\n",
    "\n",
    "    agg_func = {\n",
    "            'purchase_amount': ['count', 'sum', 'mean', 'min', 'max', 'std'],\n",
    "            'installments': ['count', 'sum', 'mean', 'min', 'max', 'std'],\n",
    "            }\n",
    "\n",
    "    intermediate_group = grouped.agg(agg_func)\n",
    "    intermediate_group.columns = ['_'.join(col).strip() for col in intermediate_group.columns.values]\n",
    "    intermediate_group.reset_index(inplace=True)\n",
    "\n",
    "    final_group = intermediate_group.groupby('card_id').agg(['mean', 'std'])\n",
    "    final_group.columns = ['_'.join(col).strip() for col in final_group.columns.values]\n",
    "    final_group.reset_index(inplace=True)\n",
    "    \n",
    "    return final_group\n",
    "#___________________________________________________________\n",
    "final_group =  aggregate_per_month(historical_transactions) \n",
    "final_group[:10]'''"
   ]
  },
  {
   "cell_type": "code",
   "execution_count": null,
   "metadata": {
    "_uuid": "17713cb3da3825e06eb4f2235f8ccdc2395c3a2c"
   },
   "outputs": [],
   "source": [
    "'''train = pd.merge(train, history, on='card_id', how='left')\n",
    "test = pd.merge(test, history, on='card_id', how='left')\n",
    "\n",
    "train = pd.merge(train, new, on='card_id', how='left')\n",
    "test = pd.merge(test, new, on='card_id', how='left')\n",
    "\n",
    "train = pd.merge(train, final_group, on='card_id')\n",
    "test = pd.merge(test, final_group, on='card_id')\n",
    "\n",
    "features = [c for c in train.columns if c not in ['card_id', 'first_active_month', 'outliers']]\n",
    "categorical_feats = [c for c in features if 'feature_' in c]'''"
   ]
  },
  {
   "cell_type": "code",
   "execution_count": null,
   "metadata": {
    "_uuid": "4e8372df679b2b4f8502123526110d6fee5982ed"
   },
   "outputs": [],
   "source": [
    "'''del history, new, final_group\n",
    "gc.collect()\n",
    "gc.collect()'''"
   ]
  },
  {
   "cell_type": "code",
   "execution_count": null,
   "metadata": {
    "_uuid": "0c45ac2382a09c0c6eca21d42fcf42797873d4bb"
   },
   "outputs": [],
   "source": [
    "'''train[features].to_csv('train_2.csv', index=False)\n",
    "test[features].to_csv('test_2.csv', index=False)'''"
   ]
  },
  {
   "cell_type": "code",
   "execution_count": null,
   "metadata": {
    "_uuid": "1e71d688a44bea39da2154d5384f3b98ff3646f8"
   },
   "outputs": [],
   "source": [
    "'''param = {'num_leaves': 50,\n",
    "         'min_data_in_leaf': 30, \n",
    "         'objective':'regression',\n",
    "         'max_depth': -1,\n",
    "         'learning_rate': 0.005,\n",
    "         \"boosting\": \"gbdt\",\n",
    "         \"feature_fraction\": 0.9,\n",
    "         \"bagging_freq\": 1,\n",
    "         \"bagging_fraction\": 0.9,\n",
    "         \"bagging_seed\": 11,\n",
    "         \"metric\": 'rmse',\n",
    "         \"lambda_l1\": 0.1,\n",
    "         \"verbosity\": -1}\n",
    "\n",
    "oof_lgb_2 = np.zeros(len(train))\n",
    "predictions_lgb_2 = np.zeros(len(test))\n",
    "start = time.time()\n",
    "\n",
    "folds = StratifiedKFold(n_splits=5, shuffle=True, random_state=15)\n",
    "\n",
    "for fold_, (trn_idx, val_idx) in enumerate(folds.split(train,train['outliers'].values)):    \n",
    "    print(\"fold n°{}\".format(fold_))\n",
    "    trn_data = lgb.Dataset(train.iloc[trn_idx][features], label=target.iloc[trn_idx], categorical_feature=categorical_feats)\n",
    "    val_data = lgb.Dataset(train.iloc[val_idx][features], label=target.iloc[val_idx], categorical_feature=categorical_feats)\n",
    "\n",
    "    num_round = 10000\n",
    "    clf = lgb.train(param, trn_data, num_round, valid_sets = [trn_data, val_data], verbose_eval=100, early_stopping_rounds = 200)\n",
    "    oof_lgb_2[val_idx] = clf.predict(train.iloc[val_idx][features], num_iteration=clf.best_iteration)\n",
    "    \n",
    "    predictions_lgb_2 += clf.predict(test[features], num_iteration=clf.best_iteration) / folds.n_splits\n",
    "\n",
    "np.save('oof_lgb_2', oof_lgb_2)\n",
    "np.save('predictions_lgb_2', predictions_lgb_2)\n",
    "print(\"CV score: {:<8.5f}\".format(mean_squared_error(oof_lgb_2, target)**0.5))'''"
   ]
  },
  {
   "cell_type": "code",
   "execution_count": null,
   "metadata": {
    "_uuid": "3959dd88dd6894a6fb913c627596debd315b4e83"
   },
   "outputs": [],
   "source": [
    "'''xgb_params = {'eta': 0.005, 'max_depth': 10, 'subsample': 0.8, 'colsample_bytree': 0.8, \n",
    "          'objective': 'reg:linear', 'eval_metric': 'rmse', 'silent': True}\n",
    "\n",
    "oof_xgb_2 = np.zeros(len(train))\n",
    "predictions_xgb_2 = np.zeros(len(test))\n",
    "\n",
    "folds = StratifiedKFold(n_splits=5, shuffle=True, random_state=15)\n",
    "\n",
    "for fold_, (trn_idx, val_idx) in enumerate(folds.split(train,train['outliers'].values)):    \n",
    "    print('-')\n",
    "    print(\"Fold {}\".format(fold_ + 1))\n",
    "    trn_data = xgb.DMatrix(data=train.iloc[trn_idx][features], label=target.iloc[trn_idx])\n",
    "    val_data = xgb.DMatrix(data=train.iloc[val_idx][features], label=target.iloc[val_idx])\n",
    "    watchlist = [(trn_data, 'train'), (val_data, 'valid')]\n",
    "    print(\"xgb \" + str(fold_) + \"-\" * 50)\n",
    "    num_round = 10000\n",
    "    xgb_model = xgb.train(xgb_params, trn_data, num_round, watchlist, early_stopping_rounds=50, verbose_eval=1000)\n",
    "    oof_xgb_2[val_idx] = xgb_model.predict(xgb.DMatrix(train.iloc[val_idx][features]), ntree_limit=xgb_model.best_ntree_limit+50)\n",
    "\n",
    "    predictions_xgb_2 += xgb_model.predict(xgb.DMatrix(test[features]), ntree_limit=xgb_model.best_ntree_limit+50) / folds.n_splits\n",
    "    \n",
    "np.save('oof_xgb_2', oof_xgb_2)\n",
    "np.save('predictions_xgb_2', predictions_xgb_2)\n",
    "np.sqrt(mean_squared_error(target.values, oof_xgb_2))'''"
   ]
  },
  {
   "cell_type": "code",
   "execution_count": null,
   "metadata": {
    "_uuid": "54db36d566926c2dc3991d3a68dc0f5196299b87"
   },
   "outputs": [],
   "source": [
    "'''del train, test\n",
    "gc.collect()\n",
    "gc.collect()'''"
   ]
  },
  {
   "cell_type": "markdown",
   "metadata": {
    "_uuid": "cafa167b2306711da153ebd2a603f6c96a574cb1"
   },
   "source": [
    "Now we add another set of features from [this kernel](https://www.kaggle.com/chauhuynh/my-first-kernel-3-699)."
   ]
  },
  {
   "cell_type": "code",
   "execution_count": null,
   "metadata": {
    "_uuid": "7430584e38ad37941e7bf75bc4daaf0450aae1c7"
   },
   "outputs": [],
   "source": [
    "train = pd.read_csv('../input/train.csv')\n",
    "test = pd.read_csv('../input/test.csv')\n",
    "hist_trans = pd.read_csv('../input/historical_transactions.csv')\n",
    "new_merchant_trans = pd.read_csv('../input/new_merchant_transactions.csv')"
   ]
  },
  {
   "cell_type": "code",
   "execution_count": null,
   "metadata": {
    "_uuid": "02fa9c91bc5cc35e1a3ed33f9a26c4bb37068f72"
   },
   "outputs": [],
   "source": [
    "for df in [hist_trans,new_merchant_trans]:\n",
    "    df['category_2'].fillna(1.0,inplace=True)\n",
    "    df['category_3'].fillna('A',inplace=True)\n",
    "    df['merchant_id'].fillna('M_ID_00a6ca8a8a',inplace=True)"
   ]
  },
  {
   "cell_type": "code",
   "execution_count": null,
   "metadata": {
    "_uuid": "4d5541999852590388fc0ce0ef557bc151539ec1"
   },
   "outputs": [],
   "source": [
    "def get_new_columns(name,aggs):\n",
    "    return [name + '_' + k + '_' + agg for k in aggs.keys() for agg in aggs[k]]"
   ]
  },
  {
   "cell_type": "code",
   "execution_count": null,
   "metadata": {
    "_uuid": "ee3c781ca91b67f5b4b61ce527e9e3265fe80146"
   },
   "outputs": [],
   "source": [
    "for df in [hist_trans,new_merchant_trans]:\n",
    "    df['purchase_date'] = pd.to_datetime(df['purchase_date'])\n",
    "    df['year'] = df['purchase_date'].dt.year\n",
    "    df['weekofyear'] = df['purchase_date'].dt.weekofyear\n",
    "    df['month'] = df['purchase_date'].dt.month\n",
    "    df['dayofweek'] = df['purchase_date'].dt.dayofweek\n",
    "    df['weekend'] = (df.purchase_date.dt.weekday >=5).astype(int)\n",
    "    df['hour'] = df['purchase_date'].dt.hour\n",
    "    df['authorized_flag'] = df['authorized_flag'].map({'Y':1, 'N':0})\n",
    "    df['category_1'] = df['category_1'].map({'Y':1, 'N':0}) \n",
    "    #https://www.kaggle.com/c/elo-merchant-category-recommendation/discussion/73244\n",
    "    df['month_diff'] = ((datetime.datetime.today() - df['purchase_date']).dt.days)//30\n",
    "    df['month_diff'] += df['month_lag']"
   ]
  },
  {
   "cell_type": "code",
   "execution_count": null,
   "metadata": {
    "_uuid": "f4ec6c138f63e29462988a38ab64c0f04078f9c8"
   },
   "outputs": [],
   "source": [
    "aggs = {}\n",
    "for col in ['month','hour','weekofyear','dayofweek','year','subsector_id','merchant_id','merchant_category_id']:\n",
    "    aggs[col] = ['nunique']\n",
    "\n",
    "aggs['purchase_amount'] = ['sum','max','min','mean','var']\n",
    "aggs['installments'] = ['sum','max','min','mean','var']\n",
    "aggs['purchase_date'] = ['max','min']\n",
    "aggs['month_lag'] = ['max','min','mean','var']\n",
    "aggs['month_diff'] = ['mean']\n",
    "aggs['authorized_flag'] = ['sum', 'mean']\n",
    "aggs['weekend'] = ['sum', 'mean']\n",
    "aggs['category_1'] = ['sum', 'mean']\n",
    "aggs['card_id'] = ['size']\n",
    "\n",
    "for col in ['category_2','category_3']:\n",
    "    hist_trans[col+'_mean'] = hist_trans.groupby([col])['purchase_amount'].transform('mean')\n",
    "    aggs[col+'_mean'] = ['mean']    \n",
    "\n",
    "new_columns = get_new_columns('hist',aggs)\n",
    "hist_trans_group = hist_trans.groupby('card_id').agg(aggs)\n",
    "hist_trans_group.columns = new_columns\n",
    "hist_trans_group.reset_index(drop=False,inplace=True)\n",
    "hist_trans_group['hist_purchase_date_diff'] = (hist_trans_group['hist_purchase_date_max'] - hist_trans_group['hist_purchase_date_min']).dt.days\n",
    "hist_trans_group['hist_purchase_date_average'] = hist_trans_group['hist_purchase_date_diff']/hist_trans_group['hist_card_id_size']\n",
    "hist_trans_group['hist_purchase_date_uptonow'] = (datetime.datetime.today() - hist_trans_group['hist_purchase_date_max']).dt.days\n",
    "train = train.merge(hist_trans_group,on='card_id',how='left')\n",
    "test = test.merge(hist_trans_group,on='card_id',how='left')\n",
    "del hist_trans_group;gc.collect();gc.collect()"
   ]
  },
  {
   "cell_type": "code",
   "execution_count": null,
   "metadata": {
    "_uuid": "6bc9390f943cbca04970321ce46410b40faba55d"
   },
   "outputs": [],
   "source": [
    "aggs = {}\n",
    "for col in ['month','hour','weekofyear','dayofweek','year','subsector_id','merchant_id','merchant_category_id']:\n",
    "    aggs[col] = ['nunique']\n",
    "aggs['purchase_amount'] = ['sum','max','min','mean','var']\n",
    "aggs['installments'] = ['sum','max','min','mean','var']\n",
    "aggs['purchase_date'] = ['max','min']\n",
    "aggs['month_lag'] = ['max','min','mean','var']\n",
    "aggs['month_diff'] = ['mean']\n",
    "aggs['weekend'] = ['sum', 'mean']\n",
    "aggs['category_1'] = ['sum', 'mean']\n",
    "aggs['card_id'] = ['size']\n",
    "\n",
    "for col in ['category_2','category_3']:\n",
    "    new_merchant_trans[col+'_mean'] = new_merchant_trans.groupby([col])['purchase_amount'].transform('mean')\n",
    "    aggs[col+'_mean'] = ['mean']\n",
    "    \n",
    "new_columns = get_new_columns('new_hist',aggs)\n",
    "hist_trans_group = new_merchant_trans.groupby('card_id').agg(aggs)\n",
    "hist_trans_group.columns = new_columns\n",
    "hist_trans_group.reset_index(drop=False,inplace=True)\n",
    "hist_trans_group['new_hist_purchase_date_diff'] = (hist_trans_group['new_hist_purchase_date_max'] - hist_trans_group['new_hist_purchase_date_min']).dt.days\n",
    "hist_trans_group['new_hist_purchase_date_average'] = hist_trans_group['new_hist_purchase_date_diff']/hist_trans_group['new_hist_card_id_size']\n",
    "hist_trans_group['new_hist_purchase_date_uptonow'] = (datetime.datetime.today() - hist_trans_group['new_hist_purchase_date_max']).dt.days\n",
    "train = train.merge(hist_trans_group,on='card_id',how='left')\n",
    "test = test.merge(hist_trans_group,on='card_id',how='left')\n",
    "del hist_trans_group;gc.collect();gc.collect()"
   ]
  },
  {
   "cell_type": "code",
   "execution_count": null,
   "metadata": {
    "_uuid": "d9ad3aa4b454cd524b5f604c480bbf512985a075"
   },
   "outputs": [],
   "source": [
    "del hist_trans;gc.collect()\n",
    "del new_merchant_trans;gc.collect()\n",
    "train.head(5)"
   ]
  },
  {
   "cell_type": "code",
   "execution_count": null,
   "metadata": {
    "_uuid": "c5ef8962152b1ebe370c898f7afc6a86e6cc7d49"
   },
   "outputs": [],
   "source": []
  },
  {
   "cell_type": "code",
   "execution_count": null,
   "metadata": {
    "_uuid": "a45875cc3bbff04b8ab710ef481f653cc2b77692"
   },
   "outputs": [],
   "source": [
    "train['outliers'] = 0\n",
    "train.loc[train['target'] < -30, 'outliers'] = 1\n",
    "train['outliers'].value_counts()"
   ]
  },
  {
   "cell_type": "code",
   "execution_count": null,
   "metadata": {
    "_uuid": "25fc96558b7524e0da8448118df6355507cee057"
   },
   "outputs": [],
   "source": [
    "for df in [train,test]:\n",
    "    df['first_active_month'] = pd.to_datetime(df['first_active_month'])\n",
    "    df['dayofweek'] = df['first_active_month'].dt.dayofweek\n",
    "    df['weekofyear'] = df['first_active_month'].dt.weekofyear\n",
    "    df['month'] = df['first_active_month'].dt.month\n",
    "    df['elapsed_time'] = (datetime.datetime.today() - df['first_active_month']).dt.days\n",
    "    df['hist_first_buy'] = (df['hist_purchase_date_min'] - df['first_active_month']).dt.days\n",
    "    df['new_hist_first_buy'] = (df['new_hist_purchase_date_min'] - df['first_active_month']).dt.days\n",
    "    for f in ['hist_purchase_date_max','hist_purchase_date_min','new_hist_purchase_date_max',\\\n",
    "                     'new_hist_purchase_date_min']:\n",
    "        df[f] = df[f].astype(np.int64) * 1e-9\n",
    "    df['card_id_total'] = df['new_hist_card_id_size']+df['hist_card_id_size']\n",
    "    df['purchase_amount_total'] = df['new_hist_purchase_amount_sum']+df['hist_purchase_amount_sum']\n",
    "\n",
    "for f in ['feature_1','feature_2','feature_3']:\n",
    "    order_label = train.groupby([f])['outliers'].mean()\n",
    "    train[f] = train[f].map(order_label)\n",
    "    test[f] = test[f].map(order_label)"
   ]
  },
  {
   "cell_type": "code",
   "execution_count": null,
   "metadata": {
    "_uuid": "0714a5c08053c6b16b0e63113c761fdc9c1ea3c0"
   },
   "outputs": [],
   "source": [
    "train_columns = [c for c in train.columns if c not in ['card_id', 'first_active_month','target','outliers']]\n",
    "target = train['target']\n",
    "del train['target']"
   ]
  },
  {
   "cell_type": "code",
   "execution_count": null,
   "metadata": {
    "_uuid": "7eb32658a1e730643733f99da8d52d45d4a559a5"
   },
   "outputs": [],
   "source": [
    "train[train_columns].to_csv('train_3.csv', index=False)\n",
    "test[train_columns].to_csv('test_3.csv', index=False)"
   ]
  },
  {
   "cell_type": "code",
   "execution_count": null,
   "metadata": {
    "_uuid": "4d3d4bae8142601d6e6df99cb657df66c8951196"
   },
   "outputs": [],
   "source": [
    "param = {'num_leaves': 31,\n",
    "         'min_data_in_leaf': 30, \n",
    "         'objective':'regression',\n",
    "         'max_depth': -1,\n",
    "         'learning_rate': 0.01,\n",
    "         \"min_child_samples\": 20,\n",
    "         \"boosting\": \"gbdt\",\n",
    "         \"feature_fraction\": 0.9,\n",
    "         \"bagging_freq\": 1,\n",
    "         \"bagging_fraction\": 0.9 ,\n",
    "         \"bagging_seed\": 11,\n",
    "         \"metric\": 'rmse',\n",
    "         \"lambda_l1\": 0.1,\n",
    "         \"verbosity\": -1,\n",
    "         \"nthread\": 4,\n",
    "         \"random_state\": 4590}\n",
    "\n",
    "oof_lgb_3 = np.zeros(len(train))\n",
    "predictions_lgb_3 = np.zeros(len(test))\n",
    "start = time.time()\n",
    "\n",
    "folds = StratifiedKFold(n_splits=5, shuffle=True, random_state=15)\n",
    "\n",
    "for fold_, (trn_idx, val_idx) in enumerate(folds.split(train,train['outliers'].values)):    \n",
    "    print(\"fold n°{}\".format(fold_))\n",
    "    trn_data = lgb.Dataset(train.iloc[trn_idx][train_columns], label=target.iloc[trn_idx])\n",
    "    val_data = lgb.Dataset(train.iloc[val_idx][train_columns], label=target.iloc[val_idx])\n",
    "\n",
    "    num_round = 10000\n",
    "    clf = lgb.train(param, trn_data, num_round, valid_sets = [trn_data, val_data], verbose_eval=100, early_stopping_rounds = 200)\n",
    "    oof_lgb_3[val_idx] = clf.predict(train.iloc[val_idx][train_columns], num_iteration=clf.best_iteration)\n",
    "    \n",
    "    predictions_lgb_3 += clf.predict(test[train_columns], num_iteration=clf.best_iteration) / folds.n_splits\n",
    "\n",
    "np.save('oof_lgb_3', oof_lgb_3)\n",
    "np.save('predictions_lgb_3', predictions_lgb_3)\n",
    "print(\"CV score: {:<8.5f}\".format(mean_squared_error(oof_lgb_3, target)**0.5))"
   ]
  },
  {
   "cell_type": "code",
   "execution_count": null,
   "metadata": {
    "_uuid": "50353a20df2642a7c13b3314c4a131401c6d6ac7"
   },
   "outputs": [],
   "source": [
    "xgb_params = {'eta': 0.005, 'max_depth': 10, 'subsample': 0.8, 'colsample_bytree': 0.8, \n",
    "          'objective': 'reg:linear', 'eval_metric': 'rmse', 'silent': True}\n",
    "\n",
    "oof_xgb_3 = np.zeros(len(train))\n",
    "predictions_xgb_3 = np.zeros(len(test))\n",
    "\n",
    "folds = StratifiedKFold(n_splits=5, shuffle=True, random_state=15)\n",
    "\n",
    "for fold_, (trn_idx, val_idx) in enumerate(folds.split(train,train['outliers'].values)):    \n",
    "    print('-')\n",
    "    print(\"Fold {}\".format(fold_ + 1))\n",
    "    trn_data = xgb.DMatrix(data=train.iloc[trn_idx][train_columns], label=target.iloc[trn_idx])\n",
    "    val_data = xgb.DMatrix(data=train.iloc[val_idx][train_columns], label=target.iloc[val_idx])\n",
    "    watchlist = [(trn_data, 'train'), (val_data, 'valid')]\n",
    "    print(\"xgb \" + str(fold_) + \"-\" * 50)\n",
    "    num_round = 10000\n",
    "    xgb_model = xgb.train(xgb_params, trn_data, num_round, watchlist, early_stopping_rounds=50, verbose_eval=1000)\n",
    "    oof_xgb_3[val_idx] = xgb_model.predict(xgb.DMatrix(train.iloc[val_idx][train_columns]), ntree_limit=xgb_model.best_ntree_limit+50)\n",
    "\n",
    "    predictions_xgb_3 += xgb_model.predict(xgb.DMatrix(test[train_columns]), ntree_limit=xgb_model.best_ntree_limit+50) / folds.n_splits\n",
    "    \n",
    "np.save('oof_xgb_3', oof_xgb_3)\n",
    "np.save('predictions_xgb_3', predictions_xgb_3)\n",
    "np.sqrt(mean_squared_error(target.values, oof_xgb_3))"
   ]
  },
  {
   "cell_type": "markdown",
   "metadata": {
    "_uuid": "ed9741e07adc6996765a3af75f0fedc0056e72bd"
   },
   "source": [
    "Finally, we'll stack them all together:"
   ]
  },
  {
   "cell_type": "code",
   "execution_count": null,
   "metadata": {
    "_uuid": "c52e2b713e889385923667369646329f0f8e0bc7"
   },
   "outputs": [],
   "source": [
    "train_stack = np.vstack([oof_lgb_3, oof_xgb_3]).transpose()\n",
    "test_stack = np.vstack([predictions_lgb_3, predictions_xgb_3]).transpose()\n",
    "\n",
    "folds = StratifiedKFold(n_splits=5, shuffle=True, random_state=15)\n",
    "oof = np.zeros(train_stack.shape[0])\n",
    "predictions = np.zeros(test_stack.shape[0])\n",
    "\n",
    "for fold_, (trn_idx, val_idx) in enumerate(folds.split(train_stack, train['outliers'].values)):\n",
    "    print(\"fold n°{}\".format(fold_))\n",
    "    trn_data, trn_y = train_stack[trn_idx], target.iloc[trn_idx].values\n",
    "    val_data, val_y = train_stack[val_idx], target.iloc[val_idx].values\n",
    "\n",
    "    clf = Ridge(alpha=1)\n",
    "    clf.fit(trn_data, trn_y)\n",
    "    \n",
    "    oof[val_idx] = clf.predict(val_data)\n",
    "    predictions += clf.predict(test_stack) / folds.n_splits\n",
    "\n",
    "\n",
    "np.sqrt(mean_squared_error(target.values, oof))"
   ]
  },
  {
   "cell_type": "code",
   "execution_count": null,
   "metadata": {
    "_uuid": "5b25bb8b74f5e469439647a97f093e475b472dfd"
   },
   "outputs": [],
   "source": [
    "sample_submission = pd.read_csv('../input/sample_submission.csv')\n",
    "sample_submission['target'] = predictions\n",
    "sample_submission.to_csv('stacker_4.csv', index=False)"
   ]
  },
  {
   "cell_type": "markdown",
   "metadata": {
    "_uuid": "ae49760e6db0fa8cdc10ccbd59f564d1691f84f3"
   },
   "source": [
    "To be continued ..."
   ]
  }
 ],
 "metadata": {
  "kernelspec": {
   "display_name": "Python 3",
   "language": "python",
   "name": "python3"
  },
  "language_info": {
   "codemirror_mode": {
    "name": "ipython",
    "version": 3
   },
   "file_extension": ".py",
   "mimetype": "text/x-python",
   "name": "python",
   "nbconvert_exporter": "python",
   "pygments_lexer": "ipython3",
   "version": "3.7.1"
  }
 },
 "nbformat": 4,
 "nbformat_minor": 2
}
